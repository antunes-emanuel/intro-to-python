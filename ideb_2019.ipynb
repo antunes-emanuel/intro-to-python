{
  "nbformat": 4,
  "nbformat_minor": 0,
  "metadata": {
    "colab": {
      "name": "ideb_2019.ipynb",
      "provenance": [],
      "collapsed_sections": []
    },
    "kernelspec": {
      "name": "python3",
      "display_name": "Python 3"
    }
  },
  "cells": [
    {
      "cell_type": "markdown",
      "metadata": {
        "id": "QhbnVVdjz-Wo",
        "colab_type": "text"
      },
      "source": [
        "# Análise do IDEB 2019 - Ensino Médio\n",
        "\n",
        "## Índice\n",
        "\n",
        "<ul>\n",
        "    <li>Introdução\n",
        "    <li>Manipulação dos dados\n",
        "    <li>Análise de Dados\n",
        "    <li>Conclusões</li>\n",
        "</ul>"
      ]
    },
    {
      "cell_type": "markdown",
      "metadata": {
        "id": "FdW7Ngxcfy00",
        "colab_type": "text"
      },
      "source": [
        "## Introdução\n",
        "O Indicador de Desenvolvimento da Educação Básica (IDEB) consiste em um cálculo o qual relaciona dados de aprendizagem e fluxo escolar, obtidos respectivamente através da avaliação do SAEB e do Censo Escolar.\n",
        "O SAEB é aplicado a cada dois anos e assim, temos o resultado do IDEB também calculado a cada dois anos.\n",
        "Para o Ensino Médio, o SAEB passou a ser censitário a partir de 2017 e assim temos os resultados por escola apenas de 2017 e 2019. \n",
        "<br>\n",
        "<br>\n",
        "\n",
        "<b> SG_UF - </b> \tSigla do estado <br>\n",
        "<b> CO_MUNICIPIO - </b> \tCódigo IBGE do município <br>\n",
        "<b> NO_MUNICIPIO - </b> Nome do município <br>\n",
        "<b> ID_ESCOLA\t- </b> Código INEP da escola <br>\n",
        "<b> REDE - </b> Dependência administrativa da escola (Municipal, Estadual, Privada) <br>\n",
        "<b> VL_INDICADOR_REND_2017\t- </b> Indicador de rendimento 2017 (Fluxo) <br>\n",
        "<b> VL_INDICADOR_REND_2019\t- </b> Indicador de rendimento 2019 (Fluxo) <br>\n",
        "<b> VL_NOTA_MEDIA_2017\t- </b> Nota padronizada 2017 (SAEB) <br>\n",
        "<b> VL_NOTA_MEDIA_2019\t- </b> Nota padronizada 2019 (SAEB) <br>\n",
        "<b> VL_OBSERVADO_2017\t\t- </b> Resultado do IDEB 2017 (SAEB) <br>\n",
        "<b> VL_OBSERVADO_2019\t- </b> Resultado do IDEB 2019 (SAEB) <br>\n",
        "<b> VL_PROJECAO_2019 - </b> Meta do IDEB 2019 (SAEB) <br>\n",
        "\n",
        "---"
      ]
    },
    {
      "cell_type": "markdown",
      "metadata": {
        "id": "xiMcD3kgOiI5",
        "colab_type": "text"
      },
      "source": [
        "## Manipulação dos dados\n",
        "\n",
        "Antes de iniciar o tratamento dos dados, uma observação prévia utilizando do excel permitiu definir quais colunas seriam utilizados nessa análise. <br>\n",
        "Um importante passo no tratamento dos dados consistiu na remoção das escolas sem resultado divulgado, o que é definido pelo INEP como critério, a participação de no mínimo 75% dos estudantes da escola. <br>\n",
        "Na base original, escolas sem resultados recebem o valor \"-\", o que também exigiu um tratamento para que os indicadores fossem transformados no tipo numérico."
      ]
    },
    {
      "cell_type": "code",
      "metadata": {
        "id": "DeRHdShWzPx3",
        "colab_type": "code",
        "colab": {}
      },
      "source": [
        "import pandas as pd\n",
        "import numpy as np\n",
        "import matplotlib.pyplot as plt\n",
        "%matplotlib inline\n",
        "\n",
        "df = pd.read_excel('/content/drive/My Drive/Educação/SAEB 2019/divulgacao_ensino_medio_escolas_2019.xlsx')"
      ],
      "execution_count": 1,
      "outputs": []
    },
    {
      "cell_type": "code",
      "metadata": {
        "id": "qoxE6qmvaLrq",
        "colab_type": "code",
        "colab": {}
      },
      "source": [
        "df.loc[:,'VL_INDICADOR_REND_2017'] = pd.to_numeric(df.loc[:,'VL_INDICADOR_REND_2017'], errors='coerce')\n",
        "df.loc[:,'VL_INDICADOR_REND_2019'] = pd.to_numeric(df.loc[:,'VL_INDICADOR_REND_2019'], errors='coerce')\n",
        "df.loc[:, 'VL_NOTA_MEDIA_2017'] = pd.to_numeric(df.loc[:,'VL_NOTA_MEDIA_2017'], errors='coerce')\n",
        "df.loc[:,'VL_NOTA_MEDIA_2019'] = pd.to_numeric(df.loc[:,'VL_NOTA_MEDIA_2019'], errors='coerce')\n",
        "df.loc[:, 'VL_OBSERVADO_2017'] = pd.to_numeric(df.loc[:,'VL_OBSERVADO_2017'], errors='coerce')\n",
        "df.loc[:, 'VL_OBSERVADO_2019'] = pd.to_numeric(df.loc[:,'VL_OBSERVADO_2019'], errors='coerce')\n",
        "df.loc[:,'VL_PROJECAO_2019'] = pd.to_numeric(df.loc[:,'VL_PROJECAO_2019'], errors='coerce')"
      ],
      "execution_count": 2,
      "outputs": []
    },
    {
      "cell_type": "code",
      "metadata": {
        "id": "1kq2pwxro4my",
        "colab_type": "code",
        "colab": {}
      },
      "source": [
        "ideb = df.loc[:,['SG_UF','CO_MUNICIPIO','NO_MUNICIPIO','ID_ESCOLA','REDE','VL_INDICADOR_REND_2017','VL_INDICADOR_REND_2019',\n",
        "          'VL_NOTA_MEDIA_2017','VL_NOTA_MEDIA_2019','VL_OBSERVADO_2017','VL_OBSERVADO_2019','VL_PROJECAO_2019']]"
      ],
      "execution_count": 3,
      "outputs": []
    },
    {
      "cell_type": "code",
      "metadata": {
        "id": "Ks8Xu6vEXpoM",
        "colab_type": "code",
        "colab": {}
      },
      "source": [
        "ideb_2019 = ideb.dropna(subset = ['VL_OBSERVADO_2019'])"
      ],
      "execution_count": 4,
      "outputs": []
    },
    {
      "cell_type": "markdown",
      "metadata": {
        "id": "a-e_ACjqLhJr",
        "colab_type": "text"
      },
      "source": [
        "<a id='#add'></a>\n",
        "## Análise de Dados"
      ]
    },
    {
      "cell_type": "markdown",
      "metadata": {
        "id": "TDva6e0AR8mq",
        "colab_type": "text"
      },
      "source": [
        "### Percentual de escolas com resultado divulgado\n",
        "\n"
      ]
    },
    {
      "cell_type": "code",
      "metadata": {
        "id": "N7WEcxAkX6lI",
        "colab_type": "code",
        "colab": {
          "base_uri": "https://localhost:8080/",
          "height": 34
        },
        "outputId": "865eb261-bd6d-4849-840e-d4fb0793fcc7"
      },
      "source": [
        "ideb_2019.shape[0]/ideb.shape[0]"
      ],
      "execution_count": 5,
      "outputs": [
        {
          "output_type": "execute_result",
          "data": {
            "text/plain": [
              "0.5833011396561715"
            ]
          },
          "metadata": {
            "tags": []
          },
          "execution_count": 5
        }
      ]
    },
    {
      "cell_type": "markdown",
      "metadata": {
        "id": "GbhcngTQw_Gw",
        "colab_type": "text"
      },
      "source": [
        "Comparando o tamanho da base completa com a base de escolas com resultados divulgados, podemos chegar a conclusão que <b><i>58,3%</i> das escolas tiveram seus resultados divulgados</b>, o que é definido como critério uma participação de 80% dos alunos na avaliação do SAEB."
      ]
    },
    {
      "cell_type": "markdown",
      "metadata": {
        "id": "Shfvl2rJSIlw",
        "colab_type": "text"
      },
      "source": [
        "### Estatísticas"
      ]
    },
    {
      "cell_type": "code",
      "metadata": {
        "id": "q6tP2SXMgJtK",
        "colab_type": "code",
        "colab": {
          "base_uri": "https://localhost:8080/",
          "height": 304
        },
        "outputId": "6566f895-0880-483b-c7cd-3906b04b877d"
      },
      "source": [
        "ideb_2019.describe()"
      ],
      "execution_count": 6,
      "outputs": [
        {
          "output_type": "execute_result",
          "data": {
            "text/html": [
              "<div>\n",
              "<style scoped>\n",
              "    .dataframe tbody tr th:only-of-type {\n",
              "        vertical-align: middle;\n",
              "    }\n",
              "\n",
              "    .dataframe tbody tr th {\n",
              "        vertical-align: top;\n",
              "    }\n",
              "\n",
              "    .dataframe thead th {\n",
              "        text-align: right;\n",
              "    }\n",
              "</style>\n",
              "<table border=\"1\" class=\"dataframe\">\n",
              "  <thead>\n",
              "    <tr style=\"text-align: right;\">\n",
              "      <th></th>\n",
              "      <th>CO_MUNICIPIO</th>\n",
              "      <th>ID_ESCOLA</th>\n",
              "      <th>VL_INDICADOR_REND_2017</th>\n",
              "      <th>VL_INDICADOR_REND_2019</th>\n",
              "      <th>VL_NOTA_MEDIA_2017</th>\n",
              "      <th>VL_NOTA_MEDIA_2019</th>\n",
              "      <th>VL_OBSERVADO_2017</th>\n",
              "      <th>VL_OBSERVADO_2019</th>\n",
              "      <th>VL_PROJECAO_2019</th>\n",
              "    </tr>\n",
              "  </thead>\n",
              "  <tbody>\n",
              "    <tr>\n",
              "      <th>count</th>\n",
              "      <td>1.207900e+04</td>\n",
              "      <td>1.207900e+04</td>\n",
              "      <td>11497.000000</td>\n",
              "      <td>12079.000000</td>\n",
              "      <td>6692.000000</td>\n",
              "      <td>12079.000000</td>\n",
              "      <td>6692.000000</td>\n",
              "      <td>12079.000000</td>\n",
              "      <td>6692.000000</td>\n",
              "    </tr>\n",
              "    <tr>\n",
              "      <th>mean</th>\n",
              "      <td>3.184799e+06</td>\n",
              "      <td>3.181058e+07</td>\n",
              "      <td>0.852352</td>\n",
              "      <td>0.892792</td>\n",
              "      <td>4.459122</td>\n",
              "      <td>4.657422</td>\n",
              "      <td>3.935415</td>\n",
              "      <td>4.172986</td>\n",
              "      <td>4.149268</td>\n",
              "    </tr>\n",
              "    <tr>\n",
              "      <th>std</th>\n",
              "      <td>8.748289e+05</td>\n",
              "      <td>8.718608e+06</td>\n",
              "      <td>0.100394</td>\n",
              "      <td>0.085439</td>\n",
              "      <td>0.669153</td>\n",
              "      <td>0.673850</td>\n",
              "      <td>0.791066</td>\n",
              "      <td>0.804079</td>\n",
              "      <td>0.781281</td>\n",
              "    </tr>\n",
              "    <tr>\n",
              "      <th>min</th>\n",
              "      <td>1.100015e+06</td>\n",
              "      <td>1.100026e+07</td>\n",
              "      <td>0.242294</td>\n",
              "      <td>0.386894</td>\n",
              "      <td>1.350903</td>\n",
              "      <td>1.951648</td>\n",
              "      <td>1.100000</td>\n",
              "      <td>1.300000</td>\n",
              "      <td>1.200000</td>\n",
              "    </tr>\n",
              "    <tr>\n",
              "      <th>25%</th>\n",
              "      <td>2.606254e+06</td>\n",
              "      <td>2.606904e+07</td>\n",
              "      <td>0.791884</td>\n",
              "      <td>0.845394</td>\n",
              "      <td>4.003055</td>\n",
              "      <td>4.215383</td>\n",
              "      <td>3.400000</td>\n",
              "      <td>3.600000</td>\n",
              "      <td>3.600000</td>\n",
              "    </tr>\n",
              "    <tr>\n",
              "      <th>50%</th>\n",
              "      <td>3.167202e+06</td>\n",
              "      <td>3.125436e+07</td>\n",
              "      <td>0.866065</td>\n",
              "      <td>0.910990</td>\n",
              "      <td>4.416458</td>\n",
              "      <td>4.638441</td>\n",
              "      <td>3.900000</td>\n",
              "      <td>4.200000</td>\n",
              "      <td>4.100000</td>\n",
              "    </tr>\n",
              "    <tr>\n",
              "      <th>75%</th>\n",
              "      <td>3.548906e+06</td>\n",
              "      <td>3.540628e+07</td>\n",
              "      <td>0.929797</td>\n",
              "      <td>0.959401</td>\n",
              "      <td>4.843771</td>\n",
              "      <td>5.049680</td>\n",
              "      <td>4.400000</td>\n",
              "      <td>4.700000</td>\n",
              "      <td>4.600000</td>\n",
              "    </tr>\n",
              "    <tr>\n",
              "      <th>max</th>\n",
              "      <td>5.300108e+06</td>\n",
              "      <td>5.306809e+07</td>\n",
              "      <td>1.000000</td>\n",
              "      <td>1.000000</td>\n",
              "      <td>7.800014</td>\n",
              "      <td>7.774514</td>\n",
              "      <td>7.700000</td>\n",
              "      <td>7.700000</td>\n",
              "      <td>7.800000</td>\n",
              "    </tr>\n",
              "  </tbody>\n",
              "</table>\n",
              "</div>"
            ],
            "text/plain": [
              "       CO_MUNICIPIO     ID_ESCOLA  ...  VL_OBSERVADO_2019  VL_PROJECAO_2019\n",
              "count  1.207900e+04  1.207900e+04  ...       12079.000000       6692.000000\n",
              "mean   3.184799e+06  3.181058e+07  ...           4.172986          4.149268\n",
              "std    8.748289e+05  8.718608e+06  ...           0.804079          0.781281\n",
              "min    1.100015e+06  1.100026e+07  ...           1.300000          1.200000\n",
              "25%    2.606254e+06  2.606904e+07  ...           3.600000          3.600000\n",
              "50%    3.167202e+06  3.125436e+07  ...           4.200000          4.100000\n",
              "75%    3.548906e+06  3.540628e+07  ...           4.700000          4.600000\n",
              "max    5.300108e+06  5.306809e+07  ...           7.700000          7.800000\n",
              "\n",
              "[8 rows x 9 columns]"
            ]
          },
          "metadata": {
            "tags": []
          },
          "execution_count": 6
        }
      ]
    },
    {
      "cell_type": "markdown",
      "metadata": {
        "id": "8M02jT5hSQ6w",
        "colab_type": "text"
      },
      "source": [
        "### Percentual de escolas com meta batida"
      ]
    },
    {
      "cell_type": "code",
      "metadata": {
        "id": "sV-wc_Kfh4u5",
        "colab_type": "code",
        "colab": {
          "base_uri": "https://localhost:8080/",
          "height": 34
        },
        "outputId": "83863026-5089-496d-d843-d6357e8e9867"
      },
      "source": [
        "meta_2019 = ideb_2019.dropna(subset = ['VL_PROJECAO_2019'])\n",
        "(meta_2019['VL_OBSERVADO_2019'] >= meta_2019['VL_PROJECAO_2019']).mean()"
      ],
      "execution_count": 7,
      "outputs": [
        {
          "output_type": "execute_result",
          "data": {
            "text/plain": [
              "0.6872384937238494"
            ]
          },
          "metadata": {
            "tags": []
          },
          "execution_count": 7
        }
      ]
    },
    {
      "cell_type": "markdown",
      "metadata": {
        "id": "LTlIY0qIzUe7",
        "colab_type": "text"
      },
      "source": [
        "As metas do IDEB são calculadas pelo INEP a partir do primeiro resultado da escola. Assim, escolas que não tiveram resultado divulgado em 2017, ainda não possuíam uma meta estabelecida para 2019. <br>\n",
        "Nessa análise foram consideradas apenas escolas com meta estabelecida para 2019, para entender qual o percentual de escolas que conseguiram atingir esse resultado esperado, sendo possível chegar a conclusão que <b><i>68%</i> das escolas atingiram a meta.</b>"
      ]
    },
    {
      "cell_type": "markdown",
      "metadata": {
        "id": "aE45KpxnSYOq",
        "colab_type": "text"
      },
      "source": [
        "### Distribuição dos resultados 2019"
      ]
    },
    {
      "cell_type": "code",
      "metadata": {
        "id": "1s2o0NQ8bdZm",
        "colab_type": "code",
        "colab": {
          "base_uri": "https://localhost:8080/",
          "height": 313
        },
        "outputId": "1f18e6ff-7b33-4023-bc80-bf2a9053a4e4"
      },
      "source": [
        "plt.hist(ideb_2019['VL_OBSERVADO_2019'])\n",
        "plt.title('Distribuição das notas do IDEB 2019')\n",
        "plt.xlabel('ideb 2019')\n",
        "plt.axvline(ideb_2019['VL_OBSERVADO_2019'].median(), c= 'red')"
      ],
      "execution_count": 16,
      "outputs": [
        {
          "output_type": "execute_result",
          "data": {
            "text/plain": [
              "<matplotlib.lines.Line2D at 0x7f7896c104e0>"
            ]
          },
          "metadata": {
            "tags": []
          },
          "execution_count": 16
        },
        {
          "output_type": "display_data",
          "data": {
            "image/png": "[encoded data removed]",
            "text/plain": [
              "<Figure size 432x288 with 1 Axes>"
            ]
          },
          "metadata": {
            "tags": [],
            "needs_background": "light"
          }
        }
      ]
    },
    {
      "cell_type": "markdown",
      "metadata": {
        "id": "bkPyLcjaSwAm",
        "colab_type": "text"
      },
      "source": [
        "### Junção com a base do Indicador de Nível Socioeconômico das Escolas de Educação Básica"
      ]
    },
    {
      "cell_type": "code",
      "metadata": {
        "id": "2doW8NC4obvL",
        "colab_type": "code",
        "colab": {}
      },
      "source": [
        "df_2 = pd.read_excel('/content/drive/My Drive/Educação/SAEB 2019/INSE_2015.xlsx')\n",
        "inse = df_2.loc[:, ['CO_ESCOLA', 'INSE_CLASSIFICACAO']]\n",
        "inse.columns = ['ID_ESCOLA', 'INSE_CLASSIFICACAO']"
      ],
      "execution_count": 9,
      "outputs": []
    },
    {
      "cell_type": "code",
      "metadata": {
        "id": "irPbgzOgxX_B",
        "colab_type": "code",
        "colab": {}
      },
      "source": [
        "inse['ID_ESCOLA'] = inse['ID_ESCOLA'].astype(int)"
      ],
      "execution_count": 10,
      "outputs": []
    },
    {
      "cell_type": "code",
      "metadata": {
        "id": "9TyKUJUd6XEJ",
        "colab_type": "code",
        "colab": {}
      },
      "source": [
        "ideb_2019_inse = ideb_2019.merge(inse, on='ID_ESCOLA')"
      ],
      "execution_count": 11,
      "outputs": []
    },
    {
      "cell_type": "markdown",
      "metadata": {
        "id": "vGXs4en2S-bI",
        "colab_type": "text"
      },
      "source": [
        "### Média por grupo de classificação do INSE"
      ]
    },
    {
      "cell_type": "code",
      "metadata": {
        "id": "2euMrpU57ZDB",
        "colab_type": "code",
        "colab": {
          "base_uri": "https://localhost:8080/",
          "height": 158
        },
        "outputId": "1aede39d-afe9-4db3-ca72-7116aa6c4ff7"
      },
      "source": [
        "ideb_2019_inse.groupby('INSE_CLASSIFICACAO')['VL_OBSERVADO_2019'].mean()"
      ],
      "execution_count": 12,
      "outputs": [
        {
          "output_type": "execute_result",
          "data": {
            "text/plain": [
              "INSE_CLASSIFICACAO\n",
              "Grupo 1    4.022474\n",
              "Grupo 2    4.060263\n",
              "Grupo 3    4.129146\n",
              "Grupo 4    4.470241\n",
              "Grupo 5    5.126207\n",
              "Grupo 6    6.875000\n",
              "Name: VL_OBSERVADO_2019, dtype: float64"
            ]
          },
          "metadata": {
            "tags": []
          },
          "execution_count": 12
        }
      ]
    },
    {
      "cell_type": "markdown",
      "metadata": {
        "id": "g2LESiziVBu0",
        "colab_type": "text"
      },
      "source": [
        "### Mediana por grupo de classificação do INSE"
      ]
    },
    {
      "cell_type": "code",
      "metadata": {
        "id": "xmBMiF5WU81l",
        "colab_type": "code",
        "colab": {
          "base_uri": "https://localhost:8080/",
          "height": 158
        },
        "outputId": "075395d5-2b57-477d-d312-c5ac69c305ac"
      },
      "source": [
        "ideb_2019_inse.groupby('INSE_CLASSIFICACAO')['VL_OBSERVADO_2019'].median()"
      ],
      "execution_count": 13,
      "outputs": [
        {
          "output_type": "execute_result",
          "data": {
            "text/plain": [
              "INSE_CLASSIFICACAO\n",
              "Grupo 1    4.00\n",
              "Grupo 2    4.00\n",
              "Grupo 3    4.10\n",
              "Grupo 4    4.40\n",
              "Grupo 5    5.00\n",
              "Grupo 6    6.65\n",
              "Name: VL_OBSERVADO_2019, dtype: float64"
            ]
          },
          "metadata": {
            "tags": []
          },
          "execution_count": 13
        }
      ]
    },
    {
      "cell_type": "markdown",
      "metadata": {
        "id": "eYkIeaG1TD3w",
        "colab_type": "text"
      },
      "source": [
        "### Desvio padrão por grupo de classificação do INSE"
      ]
    },
    {
      "cell_type": "code",
      "metadata": {
        "id": "LCr-dscB8lR3",
        "colab_type": "code",
        "colab": {
          "base_uri": "https://localhost:8080/",
          "height": 158
        },
        "outputId": "76e8cd96-11b2-49af-e6db-676afcb72b0e"
      },
      "source": [
        "ideb_2019_inse.groupby('INSE_CLASSIFICACAO')['VL_OBSERVADO_2019'].std()"
      ],
      "execution_count": 14,
      "outputs": [
        {
          "output_type": "execute_result",
          "data": {
            "text/plain": [
              "INSE_CLASSIFICACAO\n",
              "Grupo 1    0.702103\n",
              "Grupo 2    0.781685\n",
              "Grupo 3    0.690266\n",
              "Grupo 4    0.690597\n",
              "Grupo 5    0.861572\n",
              "Grupo 6    0.597016\n",
              "Name: VL_OBSERVADO_2019, dtype: float64"
            ]
          },
          "metadata": {
            "tags": []
          },
          "execution_count": 14
        }
      ]
    },
    {
      "cell_type": "markdown",
      "metadata": {
        "id": "WPgUli7QU0UG",
        "colab_type": "text"
      },
      "source": [
        "### Distribuição das notas do IDEB por grupo do INSE"
      ]
    },
    {
      "cell_type": "code",
      "metadata": {
        "id": "IdUw318g_j-Y",
        "colab_type": "code",
        "colab": {
          "base_uri": "https://localhost:8080/",
          "height": 715
        },
        "outputId": "856c7885-01c0-4b30-e108-bc949f4b2cd4"
      },
      "source": [
        "ideb_2019_inse.pivot(columns='INSE_CLASSIFICACAO', values='VL_OBSERVADO_2019').plot(kind='hist', subplots=True, figsize=(10,10))"
      ],
      "execution_count": 15,
      "outputs": [
        {
          "output_type": "execute_result",
          "data": {
            "text/plain": [
              "array([<matplotlib.axes._subplots.AxesSubplot object at 0x7f7895e902b0>,\n",
              "       <matplotlib.axes._subplots.AxesSubplot object at 0x7f7895eb4550>,\n",
              "       <matplotlib.axes._subplots.AxesSubplot object at 0x7f7896d97550>,\n",
              "       <matplotlib.axes._subplots.AxesSubplot object at 0x7f7896d3e550>,\n",
              "       <matplotlib.axes._subplots.AxesSubplot object at 0x7f7896d67550>,\n",
              "       <matplotlib.axes._subplots.AxesSubplot object at 0x7f7896d10550>],\n",
              "      dtype=object)"
            ]
          },
          "metadata": {
            "tags": []
          },
          "execution_count": 15
        },
        {
          "output_type": "display_data",
          "data": {
            "image/png": "[encoded data removed]",
            "text/plain": [
              "<Figure size 720x720 with 6 Axes>"
            ]
          },
          "metadata": {
            "tags": [],
            "needs_background": "light"
          }
        }
      ]
    },
    {
      "cell_type": "markdown",
      "metadata": {
        "id": "7wdnNVZfOqZe",
        "colab_type": "text"
      },
      "source": [
        "## Conclusão"
      ]
    },
    {
      "cell_type": "markdown",
      "metadata": {
        "id": "4eEXQ7kMOtmX",
        "colab_type": "text"
      },
      "source": [
        "Fontes utilizadas:\n",
        "\n",
        "<a href=\"http://portal.inep.gov.br/web/guest/educacao-basica/ideb/resultados\">Resultados do IDEB</a><br>\n",
        "<a href=\"http://portal.inep.gov.br/indicadores-educacionais\">Indicador de Nível Socioeconômico</a><br>\n",
        "<a href=\"https://www.in.gov.br/web/dou/-/portaria-n%c2%ba-366-de-29-de-abril-de-2019-86232542\">Portaria do SAEB</a>\n"
      ]
    }
  ]
}