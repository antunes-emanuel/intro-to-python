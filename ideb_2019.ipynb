{
  "nbformat": 4,
  "nbformat_minor": 0,
  "metadata": {
    "colab": {
      "name": "ideb_2019.ipynb",
      "provenance": [],
      "collapsed_sections": []
    },
    "kernelspec": {
      "name": "python3",
      "display_name": "Python 3"
    }
  },
  "cells": [
    {
      "cell_type": "markdown",
      "metadata": {
        "id": "QhbnVVdjz-Wo",
        "colab_type": "text"
      },
      "source": [
        "# Análise do IDEB 2019 - Ensino Médio\n",
        "\n",
        "<ul>\n",
        "    <li>Introdução\n",
        "    <li>Manipulação dos dados\n",
        "    <li>Análise de Dados\n",
        "    <li>Conclusões</li>\n",
        "</ul>"
      ]
    },
    {
      "cell_type": "markdown",
      "metadata": {
        "id": "FdW7Ngxcfy00",
        "colab_type": "text"
      },
      "source": [
        "## Introdução\n",
        "O Indicador de Desenvolvimento da Educação Básica (IDEB) consiste em um cálculo o qual relaciona dados de aprendizagem e fluxo escolar, obtidos respectivamente através da avaliação do SAEB e do Censo Escolar.\n",
        "\n",
        "---"
      ]
    },
    {
      "cell_type": "markdown",
      "metadata": {
        "id": "xiMcD3kgOiI5",
        "colab_type": "text"
      },
      "source": [
        "## Manipulação dos dados"
      ]
    },
    {
      "cell_type": "code",
      "metadata": {
        "id": "DeRHdShWzPx3",
        "colab_type": "code",
        "colab": {}
      },
      "source": [
        "import pandas as pd\n",
        "import numpy as np\n",
        "import matplotlib.pyplot as plt\n",
        "%matplotlib inline\n",
        "\n",
        "df = pd.read_excel('/content/drive/My Drive/Educação/SAEB 2019/divulgacao_ensino_medio_escolas_2019.xlsx')"
      ],
      "execution_count": 1,
      "outputs": []
    },
    {
      "cell_type": "code",
      "metadata": {
        "id": "qoxE6qmvaLrq",
        "colab_type": "code",
        "colab": {}
      },
      "source": [
        "df.loc[:,'VL_INDICADOR_REND_2017'] = pd.to_numeric(df.loc[:,'VL_INDICADOR_REND_2017'], errors='coerce')\n",
        "df.loc[:,'VL_INDICADOR_REND_2019'] = pd.to_numeric(df.loc[:,'VL_INDICADOR_REND_2019'], errors='coerce')\n",
        "df.loc[:, 'VL_NOTA_MEDIA_2017'] = pd.to_numeric(df.loc[:,'VL_NOTA_MEDIA_2017'], errors='coerce')\n",
        "df.loc[:,'VL_NOTA_MEDIA_2019'] = pd.to_numeric(df.loc[:,'VL_NOTA_MEDIA_2019'], errors='coerce')\n",
        "df.loc[:, 'VL_OBSERVADO_2017'] = pd.to_numeric(df.loc[:,'VL_OBSERVADO_2017'], errors='coerce')\n",
        "df.loc[:, 'VL_OBSERVADO_2019'] = pd.to_numeric(df.loc[:,'VL_OBSERVADO_2019'], errors='coerce')\n",
        "df.loc[:,'VL_PROJECAO_2019'] = pd.to_numeric(df.loc[:,'VL_PROJECAO_2019'], errors='coerce')"
      ],
      "execution_count": 2,
      "outputs": []
    },
    {
      "cell_type": "code",
      "metadata": {
        "id": "1kq2pwxro4my",
        "colab_type": "code",
        "colab": {
          "base_uri": "https://localhost:8080/",
          "height": 249
        },
        "outputId": "91ad945c-a655-4cca-f727-e6836e2453d5"
      },
      "source": [
        "ideb = df.loc[:,['SG_UF','CO_MUNICIPIO','NO_MUNICIPIO','ID_ESCOLA','REDE','VL_INDICADOR_REND_2017','VL_INDICADOR_REND_2019',\n",
        "          'VL_NOTA_MEDIA_2017','VL_NOTA_MEDIA_2019','VL_OBSERVADO_2017','VL_OBSERVADO_2019','VL_PROJECAO_2019']]\n",
        "ideb.head()"
      ],
      "execution_count": 3,
      "outputs": [
        {
          "output_type": "execute_result",
          "data": {
            "text/html": [
              "<div>\n",
              "<style scoped>\n",
              "    .dataframe tbody tr th:only-of-type {\n",
              "        vertical-align: middle;\n",
              "    }\n",
              "\n",
              "    .dataframe tbody tr th {\n",
              "        vertical-align: top;\n",
              "    }\n",
              "\n",
              "    .dataframe thead th {\n",
              "        text-align: right;\n",
              "    }\n",
              "</style>\n",
              "<table border=\"1\" class=\"dataframe\">\n",
              "  <thead>\n",
              "    <tr style=\"text-align: right;\">\n",
              "      <th></th>\n",
              "      <th>SG_UF</th>\n",
              "      <th>CO_MUNICIPIO</th>\n",
              "      <th>NO_MUNICIPIO</th>\n",
              "      <th>ID_ESCOLA</th>\n",
              "      <th>REDE</th>\n",
              "      <th>VL_INDICADOR_REND_2017</th>\n",
              "      <th>VL_INDICADOR_REND_2019</th>\n",
              "      <th>VL_NOTA_MEDIA_2017</th>\n",
              "      <th>VL_NOTA_MEDIA_2019</th>\n",
              "      <th>VL_OBSERVADO_2017</th>\n",
              "      <th>VL_OBSERVADO_2019</th>\n",
              "      <th>VL_PROJECAO_2019</th>\n",
              "    </tr>\n",
              "  </thead>\n",
              "  <tbody>\n",
              "    <tr>\n",
              "      <th>0</th>\n",
              "      <td>RO</td>\n",
              "      <td>1100015</td>\n",
              "      <td>Alta Floresta D'Oeste</td>\n",
              "      <td>11024968</td>\n",
              "      <td>Estadual</td>\n",
              "      <td>0.958966</td>\n",
              "      <td>0.974683</td>\n",
              "      <td>5.165867</td>\n",
              "      <td>5.676987</td>\n",
              "      <td>5.0</td>\n",
              "      <td>5.5</td>\n",
              "      <td>5.2</td>\n",
              "    </tr>\n",
              "    <tr>\n",
              "      <th>1</th>\n",
              "      <td>RO</td>\n",
              "      <td>1100015</td>\n",
              "      <td>Alta Floresta D'Oeste</td>\n",
              "      <td>11025638</td>\n",
              "      <td>Estadual</td>\n",
              "      <td>0.854840</td>\n",
              "      <td>0.915462</td>\n",
              "      <td>3.982016</td>\n",
              "      <td>4.497814</td>\n",
              "      <td>3.4</td>\n",
              "      <td>4.1</td>\n",
              "      <td>3.6</td>\n",
              "    </tr>\n",
              "    <tr>\n",
              "      <th>2</th>\n",
              "      <td>RO</td>\n",
              "      <td>1100023</td>\n",
              "      <td>Ariquemes</td>\n",
              "      <td>11006773</td>\n",
              "      <td>Estadual</td>\n",
              "      <td>NaN</td>\n",
              "      <td>0.532099</td>\n",
              "      <td>NaN</td>\n",
              "      <td>NaN</td>\n",
              "      <td>NaN</td>\n",
              "      <td>NaN</td>\n",
              "      <td>NaN</td>\n",
              "    </tr>\n",
              "    <tr>\n",
              "      <th>3</th>\n",
              "      <td>RO</td>\n",
              "      <td>1100023</td>\n",
              "      <td>Ariquemes</td>\n",
              "      <td>11006889</td>\n",
              "      <td>Estadual</td>\n",
              "      <td>0.713505</td>\n",
              "      <td>0.710171</td>\n",
              "      <td>4.362813</td>\n",
              "      <td>NaN</td>\n",
              "      <td>3.1</td>\n",
              "      <td>NaN</td>\n",
              "      <td>3.3</td>\n",
              "    </tr>\n",
              "    <tr>\n",
              "      <th>4</th>\n",
              "      <td>RO</td>\n",
              "      <td>1100023</td>\n",
              "      <td>Ariquemes</td>\n",
              "      <td>11007168</td>\n",
              "      <td>Estadual</td>\n",
              "      <td>0.815726</td>\n",
              "      <td>0.910389</td>\n",
              "      <td>NaN</td>\n",
              "      <td>4.639743</td>\n",
              "      <td>NaN</td>\n",
              "      <td>4.2</td>\n",
              "      <td>NaN</td>\n",
              "    </tr>\n",
              "  </tbody>\n",
              "</table>\n",
              "</div>"
            ],
            "text/plain": [
              "  SG_UF  CO_MUNICIPIO  ... VL_OBSERVADO_2019  VL_PROJECAO_2019\n",
              "0    RO       1100015  ...               5.5               5.2\n",
              "1    RO       1100015  ...               4.1               3.6\n",
              "2    RO       1100023  ...               NaN               NaN\n",
              "3    RO       1100023  ...               NaN               3.3\n",
              "4    RO       1100023  ...               4.2               NaN\n",
              "\n",
              "[5 rows x 12 columns]"
            ]
          },
          "metadata": {
            "tags": []
          },
          "execution_count": 3
        }
      ]
    },
    {
      "cell_type": "code",
      "metadata": {
        "id": "Ks8Xu6vEXpoM",
        "colab_type": "code",
        "colab": {}
      },
      "source": [
        "ideb_2019 = ideb.dropna(subset = ['VL_OBSERVADO_2019'])"
      ],
      "execution_count": 4,
      "outputs": []
    },
    {
      "cell_type": "markdown",
      "metadata": {
        "id": "a-e_ACjqLhJr",
        "colab_type": "text"
      },
      "source": [
        "<a id='#add'></a>\n",
        "## Análise de Dados"
      ]
    },
    {
      "cell_type": "markdown",
      "metadata": {
        "id": "TDva6e0AR8mq",
        "colab_type": "text"
      },
      "source": [
        "### Percentual de escolas com resultado divulgado"
      ]
    },
    {
      "cell_type": "code",
      "metadata": {
        "id": "N7WEcxAkX6lI",
        "colab_type": "code",
        "colab": {
          "base_uri": "https://localhost:8080/",
          "height": 34
        },
        "outputId": "d1ad7ffc-201d-49f3-a6fd-b6b06d350a8b"
      },
      "source": [
        "ideb_2019.shape[0]/ideb.shape[0]"
      ],
      "execution_count": 5,
      "outputs": [
        {
          "output_type": "execute_result",
          "data": {
            "text/plain": [
              "0.5833011396561715"
            ]
          },
          "metadata": {
            "tags": []
          },
          "execution_count": 5
        }
      ]
    },
    {
      "cell_type": "markdown",
      "metadata": {
        "id": "Shfvl2rJSIlw",
        "colab_type": "text"
      },
      "source": [
        "### Estatísticas"
      ]
    },
    {
      "cell_type": "code",
      "metadata": {
        "id": "q6tP2SXMgJtK",
        "colab_type": "code",
        "colab": {
          "base_uri": "https://localhost:8080/",
          "height": 304
        },
        "outputId": "25c80e43-9cef-4bc8-dfd2-ed03719f24f1"
      },
      "source": [
        "ideb_2019.describe()"
      ],
      "execution_count": 6,
      "outputs": [
        {
          "output_type": "execute_result",
          "data": {
            "text/html": [
              "<div>\n",
              "<style scoped>\n",
              "    .dataframe tbody tr th:only-of-type {\n",
              "        vertical-align: middle;\n",
              "    }\n",
              "\n",
              "    .dataframe tbody tr th {\n",
              "        vertical-align: top;\n",
              "    }\n",
              "\n",
              "    .dataframe thead th {\n",
              "        text-align: right;\n",
              "    }\n",
              "</style>\n",
              "<table border=\"1\" class=\"dataframe\">\n",
              "  <thead>\n",
              "    <tr style=\"text-align: right;\">\n",
              "      <th></th>\n",
              "      <th>CO_MUNICIPIO</th>\n",
              "      <th>ID_ESCOLA</th>\n",
              "      <th>VL_INDICADOR_REND_2017</th>\n",
              "      <th>VL_INDICADOR_REND_2019</th>\n",
              "      <th>VL_NOTA_MEDIA_2017</th>\n",
              "      <th>VL_NOTA_MEDIA_2019</th>\n",
              "      <th>VL_OBSERVADO_2017</th>\n",
              "      <th>VL_OBSERVADO_2019</th>\n",
              "      <th>VL_PROJECAO_2019</th>\n",
              "    </tr>\n",
              "  </thead>\n",
              "  <tbody>\n",
              "    <tr>\n",
              "      <th>count</th>\n",
              "      <td>1.207900e+04</td>\n",
              "      <td>1.207900e+04</td>\n",
              "      <td>11497.000000</td>\n",
              "      <td>12079.000000</td>\n",
              "      <td>6692.000000</td>\n",
              "      <td>12079.000000</td>\n",
              "      <td>6692.000000</td>\n",
              "      <td>12079.000000</td>\n",
              "      <td>6692.000000</td>\n",
              "    </tr>\n",
              "    <tr>\n",
              "      <th>mean</th>\n",
              "      <td>3.184799e+06</td>\n",
              "      <td>3.181058e+07</td>\n",
              "      <td>0.852352</td>\n",
              "      <td>0.892792</td>\n",
              "      <td>4.459122</td>\n",
              "      <td>4.657422</td>\n",
              "      <td>3.935415</td>\n",
              "      <td>4.172986</td>\n",
              "      <td>4.149268</td>\n",
              "    </tr>\n",
              "    <tr>\n",
              "      <th>std</th>\n",
              "      <td>8.748289e+05</td>\n",
              "      <td>8.718608e+06</td>\n",
              "      <td>0.100394</td>\n",
              "      <td>0.085439</td>\n",
              "      <td>0.669153</td>\n",
              "      <td>0.673850</td>\n",
              "      <td>0.791066</td>\n",
              "      <td>0.804079</td>\n",
              "      <td>0.781281</td>\n",
              "    </tr>\n",
              "    <tr>\n",
              "      <th>min</th>\n",
              "      <td>1.100015e+06</td>\n",
              "      <td>1.100026e+07</td>\n",
              "      <td>0.242294</td>\n",
              "      <td>0.386894</td>\n",
              "      <td>1.350903</td>\n",
              "      <td>1.951648</td>\n",
              "      <td>1.100000</td>\n",
              "      <td>1.300000</td>\n",
              "      <td>1.200000</td>\n",
              "    </tr>\n",
              "    <tr>\n",
              "      <th>25%</th>\n",
              "      <td>2.606254e+06</td>\n",
              "      <td>2.606904e+07</td>\n",
              "      <td>0.791884</td>\n",
              "      <td>0.845394</td>\n",
              "      <td>4.003055</td>\n",
              "      <td>4.215383</td>\n",
              "      <td>3.400000</td>\n",
              "      <td>3.600000</td>\n",
              "      <td>3.600000</td>\n",
              "    </tr>\n",
              "    <tr>\n",
              "      <th>50%</th>\n",
              "      <td>3.167202e+06</td>\n",
              "      <td>3.125436e+07</td>\n",
              "      <td>0.866065</td>\n",
              "      <td>0.910990</td>\n",
              "      <td>4.416458</td>\n",
              "      <td>4.638441</td>\n",
              "      <td>3.900000</td>\n",
              "      <td>4.200000</td>\n",
              "      <td>4.100000</td>\n",
              "    </tr>\n",
              "    <tr>\n",
              "      <th>75%</th>\n",
              "      <td>3.548906e+06</td>\n",
              "      <td>3.540628e+07</td>\n",
              "      <td>0.929797</td>\n",
              "      <td>0.959401</td>\n",
              "      <td>4.843771</td>\n",
              "      <td>5.049680</td>\n",
              "      <td>4.400000</td>\n",
              "      <td>4.700000</td>\n",
              "      <td>4.600000</td>\n",
              "    </tr>\n",
              "    <tr>\n",
              "      <th>max</th>\n",
              "      <td>5.300108e+06</td>\n",
              "      <td>5.306809e+07</td>\n",
              "      <td>1.000000</td>\n",
              "      <td>1.000000</td>\n",
              "      <td>7.800014</td>\n",
              "      <td>7.774514</td>\n",
              "      <td>7.700000</td>\n",
              "      <td>7.700000</td>\n",
              "      <td>7.800000</td>\n",
              "    </tr>\n",
              "  </tbody>\n",
              "</table>\n",
              "</div>"
            ],
            "text/plain": [
              "       CO_MUNICIPIO     ID_ESCOLA  ...  VL_OBSERVADO_2019  VL_PROJECAO_2019\n",
              "count  1.207900e+04  1.207900e+04  ...       12079.000000       6692.000000\n",
              "mean   3.184799e+06  3.181058e+07  ...           4.172986          4.149268\n",
              "std    8.748289e+05  8.718608e+06  ...           0.804079          0.781281\n",
              "min    1.100015e+06  1.100026e+07  ...           1.300000          1.200000\n",
              "25%    2.606254e+06  2.606904e+07  ...           3.600000          3.600000\n",
              "50%    3.167202e+06  3.125436e+07  ...           4.200000          4.100000\n",
              "75%    3.548906e+06  3.540628e+07  ...           4.700000          4.600000\n",
              "max    5.300108e+06  5.306809e+07  ...           7.700000          7.800000\n",
              "\n",
              "[8 rows x 9 columns]"
            ]
          },
          "metadata": {
            "tags": []
          },
          "execution_count": 6
        }
      ]
    },
    {
      "cell_type": "markdown",
      "metadata": {
        "id": "8M02jT5hSQ6w",
        "colab_type": "text"
      },
      "source": [
        "### Percentual de escolas com meta batida"
      ]
    },
    {
      "cell_type": "code",
      "metadata": {
        "id": "sV-wc_Kfh4u5",
        "colab_type": "code",
        "colab": {
          "base_uri": "https://localhost:8080/",
          "height": 34
        },
        "outputId": "ceffb8d4-9039-40a2-e294-2dae5c933b55"
      },
      "source": [
        "meta_2019 = ideb_2019.dropna(subset = ['VL_PROJECAO_2019'])\n",
        "(meta_2019['VL_OBSERVADO_2019'] >= meta_2019['VL_PROJECAO_2019']).mean()"
      ],
      "execution_count": 7,
      "outputs": [
        {
          "output_type": "execute_result",
          "data": {
            "text/plain": [
              "0.6872384937238494"
            ]
          },
          "metadata": {
            "tags": []
          },
          "execution_count": 7
        }
      ]
    },
    {
      "cell_type": "markdown",
      "metadata": {
        "id": "aE45KpxnSYOq",
        "colab_type": "text"
      },
      "source": [
        "### Distribuição dos resultados 2019"
      ]
    },
    {
      "cell_type": "code",
      "metadata": {
        "id": "1s2o0NQ8bdZm",
        "colab_type": "code",
        "colab": {
          "base_uri": "https://localhost:8080/",
          "height": 313
        },
        "outputId": "99d15f22-d86c-48ca-b7db-adb3536543d3"
      },
      "source": [
        "plt.hist(ideb_2019['VL_OBSERVADO_2019'])\n",
        "plt.title('Distribuição das notas do IDEB 2019')\n",
        "plt.xlabel('ideb 2019')"
      ],
      "execution_count": 8,
      "outputs": [
        {
          "output_type": "execute_result",
          "data": {
            "text/plain": [
              "Text(0.5, 0, 'ideb 2019')"
            ]
          },
          "metadata": {
            "tags": []
          },
          "execution_count": 8
        },
        {
          "output_type": "display_data",
          "data": {
            "image/png": "[encoded data removed]",
            "text/plain": [
              "<Figure size 432x288 with 1 Axes>"
            ]
          },
          "metadata": {
            "tags": [],
            "needs_background": "light"
          }
        }
      ]
    },
    {
      "cell_type": "markdown",
      "metadata": {
        "id": "bkPyLcjaSwAm",
        "colab_type": "text"
      },
      "source": [
        "### Junção com a base do Indicador de Nível Socioeconômico das Escolas de Educação Básica"
      ]
    },
    {
      "cell_type": "code",
      "metadata": {
        "id": "2doW8NC4obvL",
        "colab_type": "code",
        "colab": {}
      },
      "source": [
        "df_2 = pd.read_excel('/content/drive/My Drive/Educação/SAEB 2019/INSE_2015.xlsx')\n",
        "inse = df_2.loc[:, ['CO_ESCOLA', 'INSE_CLASSIFICACAO']]\n",
        "inse.columns = ['ID_ESCOLA', 'INSE_CLASSIFICACAO']"
      ],
      "execution_count": 9,
      "outputs": []
    },
    {
      "cell_type": "code",
      "metadata": {
        "id": "irPbgzOgxX_B",
        "colab_type": "code",
        "colab": {}
      },
      "source": [
        "inse['ID_ESCOLA'] = inse['ID_ESCOLA'].astype(int)"
      ],
      "execution_count": 10,
      "outputs": []
    },
    {
      "cell_type": "code",
      "metadata": {
        "id": "9TyKUJUd6XEJ",
        "colab_type": "code",
        "colab": {}
      },
      "source": [
        "ideb_2019_inse = ideb_2019.merge(inse, on='ID_ESCOLA')"
      ],
      "execution_count": 11,
      "outputs": []
    },
    {
      "cell_type": "code",
      "metadata": {
        "id": "igmQWWNl8S3d",
        "colab_type": "code",
        "colab": {
          "base_uri": "https://localhost:8080/",
          "height": 249
        },
        "outputId": "591c299b-12d8-4b22-c240-93802fbef170"
      },
      "source": [
        "ideb_2019_inse.head()"
      ],
      "execution_count": 12,
      "outputs": [
        {
          "output_type": "execute_result",
          "data": {
            "text/html": [
              "<div>\n",
              "<style scoped>\n",
              "    .dataframe tbody tr th:only-of-type {\n",
              "        vertical-align: middle;\n",
              "    }\n",
              "\n",
              "    .dataframe tbody tr th {\n",
              "        vertical-align: top;\n",
              "    }\n",
              "\n",
              "    .dataframe thead th {\n",
              "        text-align: right;\n",
              "    }\n",
              "</style>\n",
              "<table border=\"1\" class=\"dataframe\">\n",
              "  <thead>\n",
              "    <tr style=\"text-align: right;\">\n",
              "      <th></th>\n",
              "      <th>SG_UF</th>\n",
              "      <th>CO_MUNICIPIO</th>\n",
              "      <th>NO_MUNICIPIO</th>\n",
              "      <th>ID_ESCOLA</th>\n",
              "      <th>REDE</th>\n",
              "      <th>VL_INDICADOR_REND_2017</th>\n",
              "      <th>VL_INDICADOR_REND_2019</th>\n",
              "      <th>VL_NOTA_MEDIA_2017</th>\n",
              "      <th>VL_NOTA_MEDIA_2019</th>\n",
              "      <th>VL_OBSERVADO_2017</th>\n",
              "      <th>VL_OBSERVADO_2019</th>\n",
              "      <th>VL_PROJECAO_2019</th>\n",
              "      <th>INSE_CLASSIFICACAO</th>\n",
              "    </tr>\n",
              "  </thead>\n",
              "  <tbody>\n",
              "    <tr>\n",
              "      <th>0</th>\n",
              "      <td>RO</td>\n",
              "      <td>1100015</td>\n",
              "      <td>Alta Floresta D'Oeste</td>\n",
              "      <td>11024968</td>\n",
              "      <td>Estadual</td>\n",
              "      <td>0.958966</td>\n",
              "      <td>0.974683</td>\n",
              "      <td>5.165867</td>\n",
              "      <td>5.676987</td>\n",
              "      <td>5.0</td>\n",
              "      <td>5.5</td>\n",
              "      <td>5.2</td>\n",
              "      <td>Grupo 3</td>\n",
              "    </tr>\n",
              "    <tr>\n",
              "      <th>1</th>\n",
              "      <td>RO</td>\n",
              "      <td>1100015</td>\n",
              "      <td>Alta Floresta D'Oeste</td>\n",
              "      <td>11025638</td>\n",
              "      <td>Estadual</td>\n",
              "      <td>0.854840</td>\n",
              "      <td>0.915462</td>\n",
              "      <td>3.982016</td>\n",
              "      <td>4.497814</td>\n",
              "      <td>3.4</td>\n",
              "      <td>4.1</td>\n",
              "      <td>3.6</td>\n",
              "      <td>Grupo 3</td>\n",
              "    </tr>\n",
              "    <tr>\n",
              "      <th>2</th>\n",
              "      <td>RO</td>\n",
              "      <td>1100023</td>\n",
              "      <td>Ariquemes</td>\n",
              "      <td>11007168</td>\n",
              "      <td>Estadual</td>\n",
              "      <td>0.815726</td>\n",
              "      <td>0.910389</td>\n",
              "      <td>NaN</td>\n",
              "      <td>4.639743</td>\n",
              "      <td>NaN</td>\n",
              "      <td>4.2</td>\n",
              "      <td>NaN</td>\n",
              "      <td>Grupo 3</td>\n",
              "    </tr>\n",
              "    <tr>\n",
              "      <th>3</th>\n",
              "      <td>RO</td>\n",
              "      <td>1100023</td>\n",
              "      <td>Ariquemes</td>\n",
              "      <td>11007885</td>\n",
              "      <td>Estadual</td>\n",
              "      <td>0.935347</td>\n",
              "      <td>0.877837</td>\n",
              "      <td>5.251353</td>\n",
              "      <td>5.460527</td>\n",
              "      <td>4.9</td>\n",
              "      <td>4.8</td>\n",
              "      <td>5.1</td>\n",
              "      <td>Grupo 3</td>\n",
              "    </tr>\n",
              "    <tr>\n",
              "      <th>4</th>\n",
              "      <td>RO</td>\n",
              "      <td>1100023</td>\n",
              "      <td>Ariquemes</td>\n",
              "      <td>11007893</td>\n",
              "      <td>Estadual</td>\n",
              "      <td>0.890203</td>\n",
              "      <td>0.908942</td>\n",
              "      <td>4.392181</td>\n",
              "      <td>4.781468</td>\n",
              "      <td>3.9</td>\n",
              "      <td>4.3</td>\n",
              "      <td>4.1</td>\n",
              "      <td>Grupo 3</td>\n",
              "    </tr>\n",
              "  </tbody>\n",
              "</table>\n",
              "</div>"
            ],
            "text/plain": [
              "  SG_UF  CO_MUNICIPIO  ... VL_PROJECAO_2019  INSE_CLASSIFICACAO\n",
              "0    RO       1100015  ...              5.2             Grupo 3\n",
              "1    RO       1100015  ...              3.6             Grupo 3\n",
              "2    RO       1100023  ...              NaN             Grupo 3\n",
              "3    RO       1100023  ...              5.1             Grupo 3\n",
              "4    RO       1100023  ...              4.1             Grupo 3\n",
              "\n",
              "[5 rows x 13 columns]"
            ]
          },
          "metadata": {
            "tags": []
          },
          "execution_count": 12
        }
      ]
    },
    {
      "cell_type": "markdown",
      "metadata": {
        "id": "vGXs4en2S-bI",
        "colab_type": "text"
      },
      "source": [
        "### Média por grupo de classificação do INSE"
      ]
    },
    {
      "cell_type": "code",
      "metadata": {
        "id": "2euMrpU57ZDB",
        "colab_type": "code",
        "colab": {
          "base_uri": "https://localhost:8080/",
          "height": 158
        },
        "outputId": "fb1d5abd-e11d-48c1-e771-14b028c87197"
      },
      "source": [
        "ideb_2019_inse.groupby('INSE_CLASSIFICACAO')['VL_OBSERVADO_2019'].mean()"
      ],
      "execution_count": 13,
      "outputs": [
        {
          "output_type": "execute_result",
          "data": {
            "text/plain": [
              "INSE_CLASSIFICACAO\n",
              "Grupo 1    4.022474\n",
              "Grupo 2    4.060263\n",
              "Grupo 3    4.129146\n",
              "Grupo 4    4.470241\n",
              "Grupo 5    5.126207\n",
              "Grupo 6    6.875000\n",
              "Name: VL_OBSERVADO_2019, dtype: float64"
            ]
          },
          "metadata": {
            "tags": []
          },
          "execution_count": 13
        }
      ]
    },
    {
      "cell_type": "markdown",
      "metadata": {
        "id": "g2LESiziVBu0",
        "colab_type": "text"
      },
      "source": [
        "### Mediana por grupo de classificação do INSE"
      ]
    },
    {
      "cell_type": "code",
      "metadata": {
        "id": "xmBMiF5WU81l",
        "colab_type": "code",
        "colab": {
          "base_uri": "https://localhost:8080/",
          "height": 158
        },
        "outputId": "f79e9dde-272a-4f02-ea0e-9c3cd3c3a372"
      },
      "source": [
        "ideb_2019_inse.groupby('INSE_CLASSIFICACAO')['VL_OBSERVADO_2019'].median()"
      ],
      "execution_count": 14,
      "outputs": [
        {
          "output_type": "execute_result",
          "data": {
            "text/plain": [
              "INSE_CLASSIFICACAO\n",
              "Grupo 1    4.00\n",
              "Grupo 2    4.00\n",
              "Grupo 3    4.10\n",
              "Grupo 4    4.40\n",
              "Grupo 5    5.00\n",
              "Grupo 6    6.65\n",
              "Name: VL_OBSERVADO_2019, dtype: float64"
            ]
          },
          "metadata": {
            "tags": []
          },
          "execution_count": 14
        }
      ]
    },
    {
      "cell_type": "markdown",
      "metadata": {
        "id": "eYkIeaG1TD3w",
        "colab_type": "text"
      },
      "source": [
        "### Desvio padrão por grupo de classificação do INSE"
      ]
    },
    {
      "cell_type": "code",
      "metadata": {
        "id": "LCr-dscB8lR3",
        "colab_type": "code",
        "colab": {
          "base_uri": "https://localhost:8080/",
          "height": 158
        },
        "outputId": "0a2d81aa-06c3-4b9c-f836-11ccb0f1c213"
      },
      "source": [
        "ideb_2019_inse.groupby('INSE_CLASSIFICACAO')['VL_OBSERVADO_2019'].std()"
      ],
      "execution_count": 15,
      "outputs": [
        {
          "output_type": "execute_result",
          "data": {
            "text/plain": [
              "INSE_CLASSIFICACAO\n",
              "Grupo 1    0.702103\n",
              "Grupo 2    0.781685\n",
              "Grupo 3    0.690266\n",
              "Grupo 4    0.690597\n",
              "Grupo 5    0.861572\n",
              "Grupo 6    0.597016\n",
              "Name: VL_OBSERVADO_2019, dtype: float64"
            ]
          },
          "metadata": {
            "tags": []
          },
          "execution_count": 15
        }
      ]
    },
    {
      "cell_type": "markdown",
      "metadata": {
        "id": "WPgUli7QU0UG",
        "colab_type": "text"
      },
      "source": [
        "### Distribuição das notas do IDEB por grupo do INSE"
      ]
    },
    {
      "cell_type": "code",
      "metadata": {
        "id": "IdUw318g_j-Y",
        "colab_type": "code",
        "colab": {
          "base_uri": "https://localhost:8080/",
          "height": 715
        },
        "outputId": "489f5bb7-8b93-4a81-ced0-8f2f99a43510"
      },
      "source": [
        "ideb_2019_inse.pivot(columns='INSE_CLASSIFICACAO', values='VL_OBSERVADO_2019').plot(kind='hist', subplots=True, figsize=(10,10))"
      ],
      "execution_count": 16,
      "outputs": [
        {
          "output_type": "execute_result",
          "data": {
            "text/plain": [
              "array([<matplotlib.axes._subplots.AxesSubplot object at 0x7fb76e27a4e0>,\n",
              "       <matplotlib.axes._subplots.AxesSubplot object at 0x7fb76f15f780>,\n",
              "       <matplotlib.axes._subplots.AxesSubplot object at 0x7fb76f180780>,\n",
              "       <matplotlib.axes._subplots.AxesSubplot object at 0x7fb76f128780>,\n",
              "       <matplotlib.axes._subplots.AxesSubplot object at 0x7fb76f151780>,\n",
              "       <matplotlib.axes._subplots.AxesSubplot object at 0x7fb76f0fa780>],\n",
              "      dtype=object)"
            ]
          },
          "metadata": {
            "tags": []
          },
          "execution_count": 16
        },
        {
          "output_type": "display_data",
          "data": {
            "image/png": "[encoded data removed]",
            "text/plain": [
              "<Figure size 720x720 with 6 Axes>"
            ]
          },
          "metadata": {
            "tags": [],
            "needs_background": "light"
          }
        }
      ]
    },
    {
      "cell_type": "markdown",
      "metadata": {
        "id": "7wdnNVZfOqZe",
        "colab_type": "text"
      },
      "source": [
        "## Conclusão"
      ]
    },
    {
      "cell_type": "markdown",
      "metadata": {
        "id": "4eEXQ7kMOtmX",
        "colab_type": "text"
      },
      "source": [
        ""
      ]
    }
  ]
}