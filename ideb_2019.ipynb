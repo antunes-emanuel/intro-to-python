{
  "nbformat": 4,
  "nbformat_minor": 0,
  "metadata": {
    "colab": {
      "name": "ideb_2019.ipynb",
      "provenance": [],
      "collapsed_sections": []
    },
    "kernelspec": {
      "name": "python3",
      "display_name": "Python 3"
    }
  },
  "cells": [
    {
      "cell_type": "markdown",
      "metadata": {
        "id": "QhbnVVdjz-Wo",
        "colab_type": "text"
      },
      "source": [
        "# Análise do IDEB 2019 - Ensino Médio\n",
        "\n",
        "## Índice\n",
        "\n",
        "<ul>\n",
        "    <li>Introdução\n",
        "    <li>Manipulação dos dados\n",
        "    <li>Análise de Dados\n",
        "    <li>Conclusões</li>\n",
        "</ul>"
      ]
    },
    {
      "cell_type": "markdown",
      "metadata": {
        "id": "FdW7Ngxcfy00",
        "colab_type": "text"
      },
      "source": [
        "## Introdução\n",
        "O Indicador de Desenvolvimento da Educação Básica (IDEB) é o principal indicador da educação básica no Brasil. Ele é calculado para os seguntes níveis: escola, município, estado e Brasil.\n",
        "O obejtivo do SAEB é identificar ao longo do tempo se mais alunos estão frequentando as escolas e se esses alunos que frequentam estão aprendendo mais. <br>\n",
        "Para isso o indicador relaciona os resultados do SAEB e de fluxo, sendo que a avaliação do SAEB é aplicada a cada dois anos para as turmas de 5º ano dos Anos Iniciais, 9º ano dos Anos Finais e 3ª e 4ª série do Ensino Médio. <br>\n",
        "Para o Ensino Médio, o SAEB passou a ser censitário a partir de 2017 e assim temos os resultados por escola apenas de 2017 e 2019. \n",
        "\n",
        "<br>\n",
        "<br>\n",
        "\n",
        "<b> SG_UF - </b> \tSigla do estado <br>\n",
        "<b> CO_MUNICIPIO - </b> \tCódigo IBGE do município <br>\n",
        "<b> NO_MUNICIPIO - </b> Nome do município <br>\n",
        "<b> ID_ESCOLA\t- </b> Código INEP da escola <br>\n",
        "<b> REDE - </b> Dependência administrativa da escola (Municipal, Estadual, Privada) <br>\n",
        "<b> VL_INDICADOR_REND_2017\t- </b> Indicador de rendimento 2017 (Fluxo) <br>\n",
        "<b> VL_INDICADOR_REND_2019\t- </b> Indicador de rendimento 2019 (Fluxo) <br>\n",
        "<b> VL_NOTA_MEDIA_2017\t- </b> Nota padronizada 2017 (SAEB) <br>\n",
        "<b> VL_NOTA_MEDIA_2019\t- </b> Nota padronizada 2019 (SAEB) <br>\n",
        "<b> VL_OBSERVADO_2017\t\t- </b> Resultado do IDEB 2017 (SAEB) <br>\n",
        "<b> VL_OBSERVADO_2019\t- </b> Resultado do IDEB 2019 (SAEB) <br>\n",
        "<b> VL_PROJECAO_2019 - </b> Meta do IDEB 2019 (SAEB) <br>\n",
        "\n",
        "---"
      ]
    },
    {
      "cell_type": "markdown",
      "metadata": {
        "id": "xiMcD3kgOiI5",
        "colab_type": "text"
      },
      "source": [
        "## Manipulação dos dados\n",
        "\n",
        "Antes de iniciar o tratamento dos dados, uma observação prévia utilizando do excel permitiu definir quais colunas seriam utilizados nessa análise. <br>\n",
        "Um importante passo no tratamento dos dados consistiu na remoção das escolas sem resultado divulgado, o que é definido pelo INEP como critério, a participação de no mínimo 80% dos estudantes da escola. Essa restrição existe para que controlar um possível problema de poucos alunos da escola realizarem a prova e essa amostra ser pouco representativa. <br>\n",
        "Na base original, escolas sem resultados recebem o valor \"-\", o que também exigiu um tratamento para que os indicadores fossem transformados no tipo numérico."
      ]
    },
    {
      "cell_type": "code",
      "metadata": {
        "id": "DeRHdShWzPx3",
        "colab_type": "code",
        "colab": {}
      },
      "source": [
        "import pandas as pd\n",
        "import numpy as np\n",
        "import matplotlib.pyplot as plt\n",
        "%matplotlib inline\n",
        "\n",
        "df = pd.read_excel('/content/drive/My Drive/Educação/SAEB 2019/divulgacao_ensino_medio_escolas_2019.xlsx')"
      ],
      "execution_count": 1,
      "outputs": []
    },
    {
      "cell_type": "code",
      "metadata": {
        "id": "qoxE6qmvaLrq",
        "colab_type": "code",
        "colab": {}
      },
      "source": [
        "df.loc[:,'VL_INDICADOR_REND_2017'] = pd.to_numeric(df.loc[:,'VL_INDICADOR_REND_2017'], errors='coerce')\n",
        "df.loc[:,'VL_INDICADOR_REND_2019'] = pd.to_numeric(df.loc[:,'VL_INDICADOR_REND_2019'], errors='coerce')\n",
        "df.loc[:, 'VL_NOTA_MEDIA_2017'] = pd.to_numeric(df.loc[:,'VL_NOTA_MEDIA_2017'], errors='coerce')\n",
        "df.loc[:,'VL_NOTA_MEDIA_2019'] = pd.to_numeric(df.loc[:,'VL_NOTA_MEDIA_2019'], errors='coerce')\n",
        "df.loc[:, 'VL_OBSERVADO_2017'] = pd.to_numeric(df.loc[:,'VL_OBSERVADO_2017'], errors='coerce')\n",
        "df.loc[:, 'VL_OBSERVADO_2019'] = pd.to_numeric(df.loc[:,'VL_OBSERVADO_2019'], errors='coerce')\n",
        "df.loc[:,'VL_PROJECAO_2019'] = pd.to_numeric(df.loc[:,'VL_PROJECAO_2019'], errors='coerce')"
      ],
      "execution_count": 2,
      "outputs": []
    },
    {
      "cell_type": "code",
      "metadata": {
        "id": "1kq2pwxro4my",
        "colab_type": "code",
        "colab": {}
      },
      "source": [
        "ideb = df.loc[:,['SG_UF','CO_MUNICIPIO','NO_MUNICIPIO','ID_ESCOLA','REDE','VL_INDICADOR_REND_2017','VL_INDICADOR_REND_2019',\n",
        "          'VL_NOTA_MEDIA_2017','VL_NOTA_MEDIA_2019','VL_OBSERVADO_2017','VL_OBSERVADO_2019','VL_PROJECAO_2019']]"
      ],
      "execution_count": 3,
      "outputs": []
    },
    {
      "cell_type": "code",
      "metadata": {
        "id": "Ks8Xu6vEXpoM",
        "colab_type": "code",
        "colab": {}
      },
      "source": [
        "ideb_2019 = ideb.dropna(subset = ['VL_OBSERVADO_2019'])"
      ],
      "execution_count": 4,
      "outputs": []
    },
    {
      "cell_type": "markdown",
      "metadata": {
        "id": "a-e_ACjqLhJr",
        "colab_type": "text"
      },
      "source": [
        "---\n",
        "## Análise de Dados"
      ]
    },
    {
      "cell_type": "markdown",
      "metadata": {
        "id": "TDva6e0AR8mq",
        "colab_type": "text"
      },
      "source": [
        "### Percentual de escolas com resultado divulgado\n",
        "\n"
      ]
    },
    {
      "cell_type": "code",
      "metadata": {
        "id": "N7WEcxAkX6lI",
        "colab_type": "code",
        "colab": {
          "base_uri": "https://localhost:8080/",
          "height": 34
        },
        "outputId": "9d7804a9-79ff-4d89-de33-2ab51559df11"
      },
      "source": [
        "ideb_2019.shape[0]/ideb.shape[0]"
      ],
      "execution_count": 5,
      "outputs": [
        {
          "output_type": "execute_result",
          "data": {
            "text/plain": [
              "0.5833011396561715"
            ]
          },
          "metadata": {
            "tags": []
          },
          "execution_count": 5
        }
      ]
    },
    {
      "cell_type": "markdown",
      "metadata": {
        "id": "GbhcngTQw_Gw",
        "colab_type": "text"
      },
      "source": [
        "Comparando o tamanho da base completa com a base de escolas com resultados divulgados, podemos chegar a conclusão que <b><i>58,3%</i> das escolas tiveram seus resultados divulgados</b>, o que é definido como critério uma participação mínima de 80% dos alunos na avaliação do SAEB."
      ]
    },
    {
      "cell_type": "markdown",
      "metadata": {
        "id": "Shfvl2rJSIlw",
        "colab_type": "text"
      },
      "source": [
        "### Estatísticas"
      ]
    },
    {
      "cell_type": "code",
      "metadata": {
        "id": "q6tP2SXMgJtK",
        "colab_type": "code",
        "colab": {
          "base_uri": "https://localhost:8080/",
          "height": 304
        },
        "outputId": "9d166cc7-801e-4bbe-f200-0c066446f455"
      },
      "source": [
        "ideb_2019.describe()"
      ],
      "execution_count": 6,
      "outputs": [
        {
          "output_type": "execute_result",
          "data": {
            "text/html": [
              "<div>\n",
              "<style scoped>\n",
              "    .dataframe tbody tr th:only-of-type {\n",
              "        vertical-align: middle;\n",
              "    }\n",
              "\n",
              "    .dataframe tbody tr th {\n",
              "        vertical-align: top;\n",
              "    }\n",
              "\n",
              "    .dataframe thead th {\n",
              "        text-align: right;\n",
              "    }\n",
              "</style>\n",
              "<table border=\"1\" class=\"dataframe\">\n",
              "  <thead>\n",
              "    <tr style=\"text-align: right;\">\n",
              "      <th></th>\n",
              "      <th>CO_MUNICIPIO</th>\n",
              "      <th>ID_ESCOLA</th>\n",
              "      <th>VL_INDICADOR_REND_2017</th>\n",
              "      <th>VL_INDICADOR_REND_2019</th>\n",
              "      <th>VL_NOTA_MEDIA_2017</th>\n",
              "      <th>VL_NOTA_MEDIA_2019</th>\n",
              "      <th>VL_OBSERVADO_2017</th>\n",
              "      <th>VL_OBSERVADO_2019</th>\n",
              "      <th>VL_PROJECAO_2019</th>\n",
              "    </tr>\n",
              "  </thead>\n",
              "  <tbody>\n",
              "    <tr>\n",
              "      <th>count</th>\n",
              "      <td>1.207900e+04</td>\n",
              "      <td>1.207900e+04</td>\n",
              "      <td>11497.000000</td>\n",
              "      <td>12079.000000</td>\n",
              "      <td>6692.000000</td>\n",
              "      <td>12079.000000</td>\n",
              "      <td>6692.000000</td>\n",
              "      <td>12079.000000</td>\n",
              "      <td>6692.000000</td>\n",
              "    </tr>\n",
              "    <tr>\n",
              "      <th>mean</th>\n",
              "      <td>3.184799e+06</td>\n",
              "      <td>3.181058e+07</td>\n",
              "      <td>0.852352</td>\n",
              "      <td>0.892792</td>\n",
              "      <td>4.459122</td>\n",
              "      <td>4.657422</td>\n",
              "      <td>3.935415</td>\n",
              "      <td>4.172986</td>\n",
              "      <td>4.149268</td>\n",
              "    </tr>\n",
              "    <tr>\n",
              "      <th>std</th>\n",
              "      <td>8.748289e+05</td>\n",
              "      <td>8.718608e+06</td>\n",
              "      <td>0.100394</td>\n",
              "      <td>0.085439</td>\n",
              "      <td>0.669153</td>\n",
              "      <td>0.673850</td>\n",
              "      <td>0.791066</td>\n",
              "      <td>0.804079</td>\n",
              "      <td>0.781281</td>\n",
              "    </tr>\n",
              "    <tr>\n",
              "      <th>min</th>\n",
              "      <td>1.100015e+06</td>\n",
              "      <td>1.100026e+07</td>\n",
              "      <td>0.242294</td>\n",
              "      <td>0.386894</td>\n",
              "      <td>1.350903</td>\n",
              "      <td>1.951648</td>\n",
              "      <td>1.100000</td>\n",
              "      <td>1.300000</td>\n",
              "      <td>1.200000</td>\n",
              "    </tr>\n",
              "    <tr>\n",
              "      <th>25%</th>\n",
              "      <td>2.606254e+06</td>\n",
              "      <td>2.606904e+07</td>\n",
              "      <td>0.791884</td>\n",
              "      <td>0.845394</td>\n",
              "      <td>4.003055</td>\n",
              "      <td>4.215383</td>\n",
              "      <td>3.400000</td>\n",
              "      <td>3.600000</td>\n",
              "      <td>3.600000</td>\n",
              "    </tr>\n",
              "    <tr>\n",
              "      <th>50%</th>\n",
              "      <td>3.167202e+06</td>\n",
              "      <td>3.125436e+07</td>\n",
              "      <td>0.866065</td>\n",
              "      <td>0.910990</td>\n",
              "      <td>4.416458</td>\n",
              "      <td>4.638441</td>\n",
              "      <td>3.900000</td>\n",
              "      <td>4.200000</td>\n",
              "      <td>4.100000</td>\n",
              "    </tr>\n",
              "    <tr>\n",
              "      <th>75%</th>\n",
              "      <td>3.548906e+06</td>\n",
              "      <td>3.540628e+07</td>\n",
              "      <td>0.929797</td>\n",
              "      <td>0.959401</td>\n",
              "      <td>4.843771</td>\n",
              "      <td>5.049680</td>\n",
              "      <td>4.400000</td>\n",
              "      <td>4.700000</td>\n",
              "      <td>4.600000</td>\n",
              "    </tr>\n",
              "    <tr>\n",
              "      <th>max</th>\n",
              "      <td>5.300108e+06</td>\n",
              "      <td>5.306809e+07</td>\n",
              "      <td>1.000000</td>\n",
              "      <td>1.000000</td>\n",
              "      <td>7.800014</td>\n",
              "      <td>7.774514</td>\n",
              "      <td>7.700000</td>\n",
              "      <td>7.700000</td>\n",
              "      <td>7.800000</td>\n",
              "    </tr>\n",
              "  </tbody>\n",
              "</table>\n",
              "</div>"
            ],
            "text/plain": [
              "       CO_MUNICIPIO     ID_ESCOLA  ...  VL_OBSERVADO_2019  VL_PROJECAO_2019\n",
              "count  1.207900e+04  1.207900e+04  ...       12079.000000       6692.000000\n",
              "mean   3.184799e+06  3.181058e+07  ...           4.172986          4.149268\n",
              "std    8.748289e+05  8.718608e+06  ...           0.804079          0.781281\n",
              "min    1.100015e+06  1.100026e+07  ...           1.300000          1.200000\n",
              "25%    2.606254e+06  2.606904e+07  ...           3.600000          3.600000\n",
              "50%    3.167202e+06  3.125436e+07  ...           4.200000          4.100000\n",
              "75%    3.548906e+06  3.540628e+07  ...           4.700000          4.600000\n",
              "max    5.300108e+06  5.306809e+07  ...           7.700000          7.800000\n",
              "\n",
              "[8 rows x 9 columns]"
            ]
          },
          "metadata": {
            "tags": []
          },
          "execution_count": 6
        }
      ]
    },
    {
      "cell_type": "markdown",
      "metadata": {
        "id": "8M02jT5hSQ6w",
        "colab_type": "text"
      },
      "source": [
        "### Percentual de escolas com meta batida"
      ]
    },
    {
      "cell_type": "code",
      "metadata": {
        "id": "BTfKz-nzlvCl",
        "colab_type": "code",
        "colab": {
          "base_uri": "https://localhost:8080/",
          "height": 34
        },
        "outputId": "12dd927c-b2a4-4c14-ad06-5f1c84ff73ef"
      },
      "source": [
        "ideb_2019['VL_PROJECAO_2019'].isna().sum() / ideb_2019.shape[0]"
      ],
      "execution_count": 7,
      "outputs": [
        {
          "output_type": "execute_result",
          "data": {
            "text/plain": [
              "0.445980627535392"
            ]
          },
          "metadata": {
            "tags": []
          },
          "execution_count": 7
        }
      ]
    },
    {
      "cell_type": "code",
      "metadata": {
        "id": "sV-wc_Kfh4u5",
        "colab_type": "code",
        "colab": {
          "base_uri": "https://localhost:8080/",
          "height": 34
        },
        "outputId": "d2d2a725-6b70-4171-fbe0-300892a9c323"
      },
      "source": [
        "meta_2019 = ideb_2019.dropna(subset = ['VL_PROJECAO_2019'])\n",
        "(meta_2019['VL_OBSERVADO_2019'] >= meta_2019['VL_PROJECAO_2019']).mean()"
      ],
      "execution_count": 8,
      "outputs": [
        {
          "output_type": "execute_result",
          "data": {
            "text/plain": [
              "0.6872384937238494"
            ]
          },
          "metadata": {
            "tags": []
          },
          "execution_count": 8
        }
      ]
    },
    {
      "cell_type": "markdown",
      "metadata": {
        "id": "LTlIY0qIzUe7",
        "colab_type": "text"
      },
      "source": [
        "As metas das escola são definidas pelo INEP - seguindo uma tendência de aumentos marginalmente descrescentes (função logística). As metas são definidas até 2021, levando em consideração o primeiro resultado da escola. <br>\n",
        "<i>44,6%</i> das unidades escolares não tinham meta estabelecida para 2019, em função de não terem resultado divulgado em 2017, ano em que o SAEB passou a ser censitário para o Ensino Médio.<br>\n",
        "Das unidades escolares que tinham uma meta estabelecida e que tiveram resultado divulgado em 2019, <b><i>68%</i> conseguiram alcançar o resultado esperado.</b>"
      ]
    },
    {
      "cell_type": "markdown",
      "metadata": {
        "id": "aE45KpxnSYOq",
        "colab_type": "text"
      },
      "source": [
        "### Distribuição dos resultados 2019"
      ]
    },
    {
      "cell_type": "code",
      "metadata": {
        "id": "1s2o0NQ8bdZm",
        "colab_type": "code",
        "colab": {
          "base_uri": "https://localhost:8080/",
          "height": 313
        },
        "outputId": "dc28e85d-af08-48c7-c726-bbcfe1796cbb"
      },
      "source": [
        "plt.hist(ideb_2019['VL_OBSERVADO_2019'])\n",
        "plt.title('Distribuição das notas do IDEB 2019')\n",
        "plt.xlabel('ideb 2019')\n",
        "plt.axvline(ideb_2019['VL_OBSERVADO_2019'].median(), c= 'red')"
      ],
      "execution_count": 9,
      "outputs": [
        {
          "output_type": "execute_result",
          "data": {
            "text/plain": [
              "<matplotlib.lines.Line2D at 0x7f6dd9746160>"
            ]
          },
          "metadata": {
            "tags": []
          },
          "execution_count": 9
        },
        {
          "output_type": "display_data",
          "data": {
            "image/png": "[encoded data removed]",
            "text/plain": [
              "<Figure size 432x288 with 1 Axes>"
            ]
          },
          "metadata": {
            "tags": [],
            "needs_background": "light"
          }
        }
      ]
    },
    {
      "cell_type": "markdown",
      "metadata": {
        "id": "71A-pW24nyiZ",
        "colab_type": "text"
      },
      "source": [
        "A distribuição das notas segue uma distribuição próxima a distribuição normal, com uma grande concentração de escolas entre as notas 4 e 5."
      ]
    },
    {
      "cell_type": "markdown",
      "metadata": {
        "id": "RK8E8aF_TMa-",
        "colab_type": "text"
      },
      "source": [
        "### Desvio padrão por estado"
      ]
    },
    {
      "cell_type": "code",
      "metadata": {
        "id": "2JXjUufgS171",
        "colab_type": "code",
        "colab": {
          "base_uri": "https://localhost:8080/",
          "height": 538
        },
        "outputId": "0912a4b2-18e6-4515-b6d1-aa39a0628595"
      },
      "source": [
        "ideb_2019.groupby('SG_UF')['VL_OBSERVADO_2019'].std().sort_values(ascending=False).plot.bar(figsize=(15,8), title=\"Desvio Padrão por estado\")"
      ],
      "execution_count": 10,
      "outputs": [
        {
          "output_type": "execute_result",
          "data": {
            "text/plain": [
              "<matplotlib.axes._subplots.AxesSubplot at 0x7f6dd69d3668>"
            ]
          },
          "metadata": {
            "tags": []
          },
          "execution_count": 10
        },
        {
          "output_type": "display_data",
          "data": {
            "image/png": "[encoded data removed]",
            "text/plain": [
              "<Figure size 1080x576 with 1 Axes>"
            ]
          },
          "metadata": {
            "tags": [],
            "needs_background": "light"
          }
        }
      ]
    },
    {
      "cell_type": "markdown",
      "metadata": {
        "id": "qnGiJu8tT7N9",
        "colab_type": "text"
      },
      "source": [
        "O desvio padrão é uma medidade de dispersão que sinaliza o quão próxima da média estão os dados. Aqui utilizamos o desvio padrão como uma sinalização para equidade dentro da rede, quanto maior o desvio padrão, mais observações distantes da média."
      ]
    },
    {
      "cell_type": "code",
      "metadata": {
        "id": "dgrNQxntc-fJ",
        "colab_type": "code",
        "colab": {
          "base_uri": "https://localhost:8080/",
          "height": 313
        },
        "outputId": "c6f2a26d-995a-49eb-a2c1-ae0ad7e3ab1b"
      },
      "source": [
        "plt.scatter(ideb_2019['VL_NOTA_MEDIA_2019'],ideb_2019['VL_INDICADOR_REND_2019'])\n",
        "plt.xlabel('Aprendizagem')\n",
        "plt.ylabel('Fluxo')\n",
        "plt.title(\"Fluxo x Aprendizagem\")"
      ],
      "execution_count": 11,
      "outputs": [
        {
          "output_type": "execute_result",
          "data": {
            "text/plain": [
              "Text(0.5, 1.0, 'Fluxo x Aprendizagem')"
            ]
          },
          "metadata": {
            "tags": []
          },
          "execution_count": 11
        },
        {
          "output_type": "display_data",
          "data": {
            "image/png": "[encoded data removed]",
            "text/plain": [
              "<Figure size 432x288 with 1 Axes>"
            ]
          },
          "metadata": {
            "tags": [],
            "needs_background": "light"
          }
        }
      ]
    },
    {
      "cell_type": "markdown",
      "metadata": {
        "id": "bkPyLcjaSwAm",
        "colab_type": "text"
      },
      "source": [
        "### Junção com a base do Indicador de Nível Socioeconômico das Escolas de Educação Básica"
      ]
    },
    {
      "cell_type": "markdown",
      "metadata": {
        "id": "GHOGn0rUFK3P",
        "colab_type": "text"
      },
      "source": [
        "Dado que variáveis socioeconômicas podem impactar os dados de frequencia e desempenho dos alunos nas avaliação, importante cruzar os dados do IDEB com indicadores que reflitam a realidade socioeconômica dos estudantes. Para isso,  utilizamos o Indicador de Nível Socioeconômico das Escolas de Educação Básica, o qual é disponibilizado pelo INEP e tem como mais recente publicação, a base do ano de 2015."
      ]
    },
    {
      "cell_type": "code",
      "metadata": {
        "id": "2doW8NC4obvL",
        "colab_type": "code",
        "colab": {}
      },
      "source": [
        "df_2 = pd.read_excel('/content/drive/My Drive/Educação/SAEB 2019/INSE_2015.xlsx')\n",
        "inse = df_2.loc[:, ['CO_ESCOLA','INSE_VALOR_ABSOLUTO' ,'INSE_CLASSIFICACAO']]\n",
        "inse.columns = ['ID_ESCOLA','INSE_VALOR_ABSOLUTO', 'INSE_CLASSIFICACAO']"
      ],
      "execution_count": 12,
      "outputs": []
    },
    {
      "cell_type": "code",
      "metadata": {
        "id": "irPbgzOgxX_B",
        "colab_type": "code",
        "colab": {}
      },
      "source": [
        "inse['ID_ESCOLA'] = inse['ID_ESCOLA'].astype(int)"
      ],
      "execution_count": 13,
      "outputs": []
    },
    {
      "cell_type": "code",
      "metadata": {
        "id": "9TyKUJUd6XEJ",
        "colab_type": "code",
        "colab": {}
      },
      "source": [
        "ideb_2019_inse = ideb_2019.merge(inse, on='ID_ESCOLA')"
      ],
      "execution_count": 14,
      "outputs": []
    },
    {
      "cell_type": "markdown",
      "metadata": {
        "id": "7cVTFQRJsKZo",
        "colab_type": "text"
      },
      "source": [
        "### Percentual de escolas sem meta projetada para 2019, conforme o grupo de classificação do INSE"
      ]
    },
    {
      "cell_type": "code",
      "metadata": {
        "id": "Mv8UCLzosLIp",
        "colab_type": "code",
        "colab": {}
      },
      "source": [
        "inse_escolas = ideb.merge(inse, on='ID_ESCOLA')\n",
        "sem_meta = pd.isnull(inse_escolas['VL_PROJECAO_2019'])\n",
        "escolas_sem_meta = inse_escolas[sem_meta]"
      ],
      "execution_count": 49,
      "outputs": []
    },
    {
      "cell_type": "code",
      "metadata": {
        "id": "pBi1TF43wJP9",
        "colab_type": "code",
        "colab": {
          "base_uri": "https://localhost:8080/",
          "height": 34
        },
        "outputId": "758e72e2-9ec9-47d2-bf20-3792074502a5"
      },
      "source": [
        "escolas_sem_meta.query('INSE_CLASSIFICACAO == \"Grupo 1\"').shape[0]/inse_escolas.query('INSE_CLASSIFICACAO == \"Grupo 1\"').shape[0]"
      ],
      "execution_count": 50,
      "outputs": [
        {
          "output_type": "execute_result",
          "data": {
            "text/plain": [
              "0.23563218390804597"
            ]
          },
          "metadata": {
            "tags": []
          },
          "execution_count": 50
        }
      ]
    },
    {
      "cell_type": "code",
      "metadata": {
        "id": "IerpoBufwNdX",
        "colab_type": "code",
        "colab": {
          "base_uri": "https://localhost:8080/",
          "height": 34
        },
        "outputId": "b1842344-4909-4103-d69e-e33600dc2a07"
      },
      "source": [
        "escolas_sem_meta.query('INSE_CLASSIFICACAO == \"Grupo 2\"').shape[0]/inse_escolas.query('INSE_CLASSIFICACAO == \"Grupo 2\"').shape[0]"
      ],
      "execution_count": 51,
      "outputs": [
        {
          "output_type": "execute_result",
          "data": {
            "text/plain": [
              "0.41542699724517906"
            ]
          },
          "metadata": {
            "tags": []
          },
          "execution_count": 51
        }
      ]
    },
    {
      "cell_type": "code",
      "metadata": {
        "id": "VGOhYNhjwRK0",
        "colab_type": "code",
        "colab": {
          "base_uri": "https://localhost:8080/",
          "height": 34
        },
        "outputId": "6f4f1091-e4b7-41c6-fbd4-56af97ec7ca8"
      },
      "source": [
        "escolas_sem_meta.query('INSE_CLASSIFICACAO == \"Grupo 3\"').shape[0]/inse_escolas.query('INSE_CLASSIFICACAO == \"Grupo 3\"').shape[0]"
      ],
      "execution_count": 52,
      "outputs": [
        {
          "output_type": "execute_result",
          "data": {
            "text/plain": [
              "0.5346616853466168"
            ]
          },
          "metadata": {
            "tags": []
          },
          "execution_count": 52
        }
      ]
    },
    {
      "cell_type": "code",
      "metadata": {
        "id": "_vyRxiYMwUJM",
        "colab_type": "code",
        "colab": {
          "base_uri": "https://localhost:8080/",
          "height": 34
        },
        "outputId": "14971eab-a1e2-4b35-fc6f-f45354ce9abe"
      },
      "source": [
        "escolas_sem_meta.query('INSE_CLASSIFICACAO == \"Grupo 4\"').shape[0]/inse_escolas.query('INSE_CLASSIFICACAO == \"Grupo 4\"').shape[0]"
      ],
      "execution_count": 53,
      "outputs": [
        {
          "output_type": "execute_result",
          "data": {
            "text/plain": [
              "0.6208801676509811"
            ]
          },
          "metadata": {
            "tags": []
          },
          "execution_count": 53
        }
      ]
    },
    {
      "cell_type": "code",
      "metadata": {
        "id": "ZeGvOeH0wXj_",
        "colab_type": "code",
        "colab": {
          "base_uri": "https://localhost:8080/",
          "height": 34
        },
        "outputId": "c88cfc71-3711-4927-af5e-613bdcb2ac8b"
      },
      "source": [
        "escolas_sem_meta.query('INSE_CLASSIFICACAO == \"Grupo 5\"').shape[0]/inse_escolas.query('INSE_CLASSIFICACAO == \"Grupo 5\"').shape[0]"
      ],
      "execution_count": 54,
      "outputs": [
        {
          "output_type": "execute_result",
          "data": {
            "text/plain": [
              "0.4773462783171521"
            ]
          },
          "metadata": {
            "tags": []
          },
          "execution_count": 54
        }
      ]
    },
    {
      "cell_type": "code",
      "metadata": {
        "id": "ZZiszJk6wakb",
        "colab_type": "code",
        "colab": {
          "base_uri": "https://localhost:8080/",
          "height": 34
        },
        "outputId": "ab24f894-511d-4363-b2c0-a46bac8ca86a"
      },
      "source": [
        "escolas_sem_meta.query('INSE_CLASSIFICACAO == \"Grupo 6\"').shape[0]/inse_escolas.query('INSE_CLASSIFICACAO == \"Grupo 6\"').shape[0]"
      ],
      "execution_count": 55,
      "outputs": [
        {
          "output_type": "execute_result",
          "data": {
            "text/plain": [
              "0.4155844155844156"
            ]
          },
          "metadata": {
            "tags": []
          },
          "execution_count": 55
        }
      ]
    },
    {
      "cell_type": "markdown",
      "metadata": {
        "id": "YaU4PcSqwh3i",
        "colab_type": "text"
      },
      "source": [
        "Grupo 1 - 23,56% <br>\n",
        "Grupo 2 - 41,54% <br>\n",
        "Grupo 3 - 53,46% <br>\n",
        "Grupo 4 - 62,08% <br>\n",
        "Grupo 5 - 47,73% <br>\n",
        "Grupo 6 - 41,55% <br>"
      ]
    },
    {
      "cell_type": "markdown",
      "metadata": {
        "id": "vGXs4en2S-bI",
        "colab_type": "text"
      },
      "source": [
        "### Média por grupo de classificação do INSE"
      ]
    },
    {
      "cell_type": "code",
      "metadata": {
        "id": "2euMrpU57ZDB",
        "colab_type": "code",
        "colab": {
          "base_uri": "https://localhost:8080/",
          "height": 158
        },
        "outputId": "47b95d45-76be-4a70-951d-326d51479a64"
      },
      "source": [
        "ideb_2019_inse.groupby('INSE_CLASSIFICACAO')['VL_OBSERVADO_2019'].mean()"
      ],
      "execution_count": 15,
      "outputs": [
        {
          "output_type": "execute_result",
          "data": {
            "text/plain": [
              "INSE_CLASSIFICACAO\n",
              "Grupo 1    4.022474\n",
              "Grupo 2    4.060263\n",
              "Grupo 3    4.129146\n",
              "Grupo 4    4.470241\n",
              "Grupo 5    5.126207\n",
              "Grupo 6    6.875000\n",
              "Name: VL_OBSERVADO_2019, dtype: float64"
            ]
          },
          "metadata": {
            "tags": []
          },
          "execution_count": 15
        }
      ]
    },
    {
      "cell_type": "markdown",
      "metadata": {
        "id": "4i3eUuO2oxjM",
        "colab_type": "text"
      },
      "source": [
        "Observamos uma correlação positiva entre nível socioeconômico e o resultado do IDEB 2019, indicando que na média as escolas com nível socioeconômico maiores tem médias maiores de IDEB."
      ]
    },
    {
      "cell_type": "markdown",
      "metadata": {
        "id": "g2LESiziVBu0",
        "colab_type": "text"
      },
      "source": [
        "### Mediana por grupo de classificação do INSE"
      ]
    },
    {
      "cell_type": "code",
      "metadata": {
        "id": "xmBMiF5WU81l",
        "colab_type": "code",
        "colab": {
          "base_uri": "https://localhost:8080/",
          "height": 158
        },
        "outputId": "2c0c6be7-9e22-41ee-eca8-8bd6edcefed2"
      },
      "source": [
        "ideb_2019_inse.groupby('INSE_CLASSIFICACAO')['VL_OBSERVADO_2019'].median()"
      ],
      "execution_count": 16,
      "outputs": [
        {
          "output_type": "execute_result",
          "data": {
            "text/plain": [
              "INSE_CLASSIFICACAO\n",
              "Grupo 1    4.00\n",
              "Grupo 2    4.00\n",
              "Grupo 3    4.10\n",
              "Grupo 4    4.40\n",
              "Grupo 5    5.00\n",
              "Grupo 6    6.65\n",
              "Name: VL_OBSERVADO_2019, dtype: float64"
            ]
          },
          "metadata": {
            "tags": []
          },
          "execution_count": 16
        }
      ]
    },
    {
      "cell_type": "markdown",
      "metadata": {
        "id": "eYkIeaG1TD3w",
        "colab_type": "text"
      },
      "source": [
        "### Desvio padrão por grupo de classificação do INSE"
      ]
    },
    {
      "cell_type": "code",
      "metadata": {
        "id": "LCr-dscB8lR3",
        "colab_type": "code",
        "colab": {
          "base_uri": "https://localhost:8080/",
          "height": 158
        },
        "outputId": "ea2e4ddd-249a-45b2-d21c-599b772343d9"
      },
      "source": [
        "ideb_2019_inse.groupby('INSE_CLASSIFICACAO')['VL_OBSERVADO_2019'].std()"
      ],
      "execution_count": 17,
      "outputs": [
        {
          "output_type": "execute_result",
          "data": {
            "text/plain": [
              "INSE_CLASSIFICACAO\n",
              "Grupo 1    0.702103\n",
              "Grupo 2    0.781685\n",
              "Grupo 3    0.690266\n",
              "Grupo 4    0.690597\n",
              "Grupo 5    0.861572\n",
              "Grupo 6    0.597016\n",
              "Name: VL_OBSERVADO_2019, dtype: float64"
            ]
          },
          "metadata": {
            "tags": []
          },
          "execution_count": 17
        }
      ]
    },
    {
      "cell_type": "markdown",
      "metadata": {
        "id": "WPgUli7QU0UG",
        "colab_type": "text"
      },
      "source": [
        "### Distribuição das notas do IDEB por grupo do INSE"
      ]
    },
    {
      "cell_type": "code",
      "metadata": {
        "id": "IdUw318g_j-Y",
        "colab_type": "code",
        "colab": {
          "base_uri": "https://localhost:8080/",
          "height": 715
        },
        "outputId": "d115b92f-038a-433b-a8bc-836766517624"
      },
      "source": [
        "ideb_2019_inse.pivot(columns='INSE_CLASSIFICACAO', values='VL_OBSERVADO_2019').plot(kind='hist', subplots=True, figsize=(10,10))"
      ],
      "execution_count": 18,
      "outputs": [
        {
          "output_type": "execute_result",
          "data": {
            "text/plain": [
              "array([<matplotlib.axes._subplots.AxesSubplot object at 0x7f6dd6977978>,\n",
              "       <matplotlib.axes._subplots.AxesSubplot object at 0x7f6dd68f1cc0>,\n",
              "       <matplotlib.axes._subplots.AxesSubplot object at 0x7f6dd56458d0>,\n",
              "       <matplotlib.axes._subplots.AxesSubplot object at 0x7f6dd46ea8d0>,\n",
              "       <matplotlib.axes._subplots.AxesSubplot object at 0x7f6dd470e8d0>,\n",
              "       <matplotlib.axes._subplots.AxesSubplot object at 0x7f6dd55f68d0>],\n",
              "      dtype=object)"
            ]
          },
          "metadata": {
            "tags": []
          },
          "execution_count": 18
        },
        {
          "output_type": "display_data",
          "data": {
            "image/png": "[encoded data removed]",
            "text/plain": [
              "<Figure size 720x720 with 6 Axes>"
            ]
          },
          "metadata": {
            "tags": [],
            "needs_background": "light"
          }
        }
      ]
    },
    {
      "cell_type": "markdown",
      "metadata": {
        "id": "6PKzSDZ9pF3_",
        "colab_type": "text"
      },
      "source": [
        "Vale importante destaque para o grupo 6 (escolas com maior nível socioeconômico), o qual apresenta uma maior média nos resultados do IDEB e possui uma distribuição mais homogênea que nos outros grupos, mas possui uma amostra muito pequena nessa análise, com apenas oito escolas."
      ]
    },
    {
      "cell_type": "markdown",
      "metadata": {
        "id": "2qxGMY6AOj7h",
        "colab_type": "text"
      },
      "source": [
        "INSE x IDEB"
      ]
    },
    {
      "cell_type": "code",
      "metadata": {
        "id": "w7J2Dbtn7WsK",
        "colab_type": "code",
        "colab": {
          "base_uri": "https://localhost:8080/",
          "height": 313
        },
        "outputId": "c6974c7d-a03f-48da-b20d-55b8379a30cc"
      },
      "source": [
        "plt.scatter(ideb_2019_inse['INSE_VALOR_ABSOLUTO'],ideb_2019_inse['VL_OBSERVADO_2019'])\n",
        "plt.title('INSE x IDEB')\n",
        "plt.xlabel('INSE')\n",
        "plt.ylabel('IDEB')"
      ],
      "execution_count": 25,
      "outputs": [
        {
          "output_type": "execute_result",
          "data": {
            "text/plain": [
              "Text(0, 0.5, 'IDEB')"
            ]
          },
          "metadata": {
            "tags": []
          },
          "execution_count": 25
        },
        {
          "output_type": "display_data",
          "data": {
            "image/png": "[encoded data removed]",
            "text/plain": [
              "<Figure size 432x288 with 1 Axes>"
            ]
          },
          "metadata": {
            "tags": [],
            "needs_background": "light"
          }
        }
      ]
    },
    {
      "cell_type": "code",
      "metadata": {
        "id": "noqEmJFyDe6y",
        "colab_type": "code",
        "colab": {
          "base_uri": "https://localhost:8080/",
          "height": 97
        },
        "outputId": "67968098-2ac1-457b-bec9-c9cbedcde75a"
      },
      "source": [
        "ideb_2019_inse.query('INSE_VALOR_ABSOLUTO < 20')"
      ],
      "execution_count": 20,
      "outputs": [
        {
          "output_type": "execute_result",
          "data": {
            "text/html": [
              "<div>\n",
              "<style scoped>\n",
              "    .dataframe tbody tr th:only-of-type {\n",
              "        vertical-align: middle;\n",
              "    }\n",
              "\n",
              "    .dataframe tbody tr th {\n",
              "        vertical-align: top;\n",
              "    }\n",
              "\n",
              "    .dataframe thead th {\n",
              "        text-align: right;\n",
              "    }\n",
              "</style>\n",
              "<table border=\"1\" class=\"dataframe\">\n",
              "  <thead>\n",
              "    <tr style=\"text-align: right;\">\n",
              "      <th></th>\n",
              "      <th>SG_UF</th>\n",
              "      <th>CO_MUNICIPIO</th>\n",
              "      <th>NO_MUNICIPIO</th>\n",
              "      <th>ID_ESCOLA</th>\n",
              "      <th>REDE</th>\n",
              "      <th>VL_INDICADOR_REND_2017</th>\n",
              "      <th>VL_INDICADOR_REND_2019</th>\n",
              "      <th>VL_NOTA_MEDIA_2017</th>\n",
              "      <th>VL_NOTA_MEDIA_2019</th>\n",
              "      <th>VL_OBSERVADO_2017</th>\n",
              "      <th>VL_OBSERVADO_2019</th>\n",
              "      <th>VL_PROJECAO_2019</th>\n",
              "      <th>INSE_VALOR_ABSOLUTO</th>\n",
              "      <th>INSE_CLASSIFICACAO</th>\n",
              "    </tr>\n",
              "  </thead>\n",
              "  <tbody>\n",
              "    <tr>\n",
              "      <th>1457</th>\n",
              "      <td>CE</td>\n",
              "      <td>2307809</td>\n",
              "      <td>Marco</td>\n",
              "      <td>23007648</td>\n",
              "      <td>Estadual</td>\n",
              "      <td>0.949792</td>\n",
              "      <td>0.928687</td>\n",
              "      <td>3.623529</td>\n",
              "      <td>4.295947</td>\n",
              "      <td>3.4</td>\n",
              "      <td>4.0</td>\n",
              "      <td>3.7</td>\n",
              "      <td>11.75</td>\n",
              "      <td>Grupo 1</td>\n",
              "    </tr>\n",
              "  </tbody>\n",
              "</table>\n",
              "</div>"
            ],
            "text/plain": [
              "     SG_UF  CO_MUNICIPIO  ... INSE_VALOR_ABSOLUTO  INSE_CLASSIFICACAO\n",
              "1457    CE       2307809  ...               11.75             Grupo 1\n",
              "\n",
              "[1 rows x 14 columns]"
            ]
          },
          "metadata": {
            "tags": []
          },
          "execution_count": 20
        }
      ]
    },
    {
      "cell_type": "code",
      "metadata": {
        "id": "bgRXsD0GD3z7",
        "colab_type": "code",
        "colab": {
          "base_uri": "https://localhost:8080/",
          "height": 34
        },
        "outputId": "825c5d45-8ba6-47bb-b026-0d11fbcafc07"
      },
      "source": [
        "ideb_2019_inse.query('VL_OBSERVADO_2019 < 4').shape[0]"
      ],
      "execution_count": 21,
      "outputs": [
        {
          "output_type": "execute_result",
          "data": {
            "text/plain": [
              "3466"
            ]
          },
          "metadata": {
            "tags": []
          },
          "execution_count": 21
        }
      ]
    },
    {
      "cell_type": "markdown",
      "metadata": {
        "id": "kZ0jvhV7G7Xz",
        "colab_type": "text"
      },
      "source": [
        "Temos uma escola no município de Marco - CE com INSE igual a 11.75, mas que ainda assim possui um resultado no IDEB superior a outras 3466 escolas."
      ]
    },
    {
      "cell_type": "code",
      "metadata": {
        "id": "nNfmhtaZEqa7",
        "colab_type": "code",
        "colab": {
          "base_uri": "https://localhost:8080/",
          "height": 34
        },
        "outputId": "ac38d6d2-636b-4a84-f275-46747955c2f5"
      },
      "source": [
        "ideb_2019_inse.query('VL_OBSERVADO_2019 > 6 & INSE_VALOR_ABSOLUTO < 40').shape[0]"
      ],
      "execution_count": 22,
      "outputs": [
        {
          "output_type": "execute_result",
          "data": {
            "text/plain": [
              "16"
            ]
          },
          "metadata": {
            "tags": []
          },
          "execution_count": 22
        }
      ]
    },
    {
      "cell_type": "markdown",
      "metadata": {
        "id": "D7rzlrhdIU-2",
        "colab_type": "text"
      },
      "source": [
        "16 escolas possuem INSE inferior a 40, mas conseguiram IDEB superior a 6"
      ]
    },
    {
      "cell_type": "markdown",
      "metadata": {
        "id": "7wdnNVZfOqZe",
        "colab_type": "text"
      },
      "source": [
        "---\n",
        "## Conclusão"
      ]
    },
    {
      "cell_type": "markdown",
      "metadata": {
        "id": "4eEXQ7kMOtmX",
        "colab_type": "text"
      },
      "source": [
        "Fontes utilizadas:\n",
        "\n",
        "<a href=\"http://portal.inep.gov.br/web/guest/educacao-basica/ideb/resultados\">Resultados do IDEB</a><br>\n",
        "<a href=\"http://portal.inep.gov.br/indicadores-educacionais\">Indicador de Nível Socioeconômico</a><br>\n",
        "<a href=\"https://www.in.gov.br/web/dou/-/portaria-n%c2%ba-366-de-29-de-abril-de-2019-86232542\">Portaria do SAEB</a>\n"
      ]
    }
  ]
}